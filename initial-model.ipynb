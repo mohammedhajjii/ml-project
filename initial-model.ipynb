{
 "cells": [
  {
   "cell_type": "markdown",
   "metadata": {},
   "source": [
    "# Collaborative filtering recommender system"
   ]
  },
  {
   "cell_type": "code",
   "execution_count": 134,
   "metadata": {},
   "outputs": [],
   "source": [
    "from pyspark.sql import SparkSession\n",
    "from pyspark.sql.functions import col, count, rank\n",
    "from pyspark.sql.window import Window\n",
    "from matplotlib import pyplot as plt\n",
    "spark = (\n",
    "    SparkSession\n",
    "    .Builder()\n",
    "    .appName('cf-project')\n",
    "    .getOrCreate()\n",
    ")"
   ]
  },
  {
   "cell_type": "markdown",
   "metadata": {},
   "source": [
    "## dataset import"
   ]
  },
  {
   "cell_type": "code",
   "execution_count": 135,
   "metadata": {},
   "outputs": [],
   "source": [
    "#importing datasets:\n",
    "\n",
    "ratings = spark.read.csv(path='./dataset/Ratings.csv', header=True, inferSchema=True)\n",
    "users = spark.read.csv(path='./dataset/Users.csv', header=True, inferSchema=True)\n",
    "books =  spark.read.csv(path='./dataset/Books.csv', header=True, inferSchema=True)\n"
   ]
  },
  {
   "cell_type": "markdown",
   "metadata": {},
   "source": [
    "## Data visualisation"
   ]
  },
  {
   "cell_type": "code",
   "execution_count": 136,
   "metadata": {},
   "outputs": [
    {
     "name": "stdout",
     "output_type": "stream",
     "text": [
      "+------+----------+------+\n",
      "|UserID|      ISBN|Rating|\n",
      "+------+----------+------+\n",
      "|276725|034545104X|     0|\n",
      "|276726|0155061224|     5|\n",
      "|276727|0446520802|     0|\n",
      "|276729|052165615X|     3|\n",
      "|276729|0521795028|     6|\n",
      "|276733|2080674722|     0|\n",
      "|276736|3257224281|     8|\n",
      "+------+----------+------+\n",
      "only showing top 7 rows\n",
      "\n"
     ]
    }
   ],
   "source": [
    "ratings.show(n = 7)"
   ]
  },
  {
   "cell_type": "code",
   "execution_count": 137,
   "metadata": {},
   "outputs": [
    {
     "name": "stdout",
     "output_type": "stream",
     "text": [
      "+------+--------------------+----+\n",
      "|UserID|            Location| Age|\n",
      "+------+--------------------+----+\n",
      "|     1|  nyc, new york, usa|NULL|\n",
      "|     2|stockton, califor...|18.0|\n",
      "|     3|moscow, yukon ter...|NULL|\n",
      "|     4|porto, v.n.gaia, ...|17.0|\n",
      "|     5|farnborough, hant...|NULL|\n",
      "|     6|santa monica, cal...|61.0|\n",
      "|     7| washington, dc, usa|NULL|\n",
      "|     8|timmins, ontario,...|NULL|\n",
      "|     9|germantown, tenne...|NULL|\n",
      "|    10|albacete, wiscons...|26.0|\n",
      "+------+--------------------+----+\n",
      "only showing top 10 rows\n",
      "\n"
     ]
    }
   ],
   "source": [
    "users.show(n = 10)"
   ]
  },
  {
   "cell_type": "code",
   "execution_count": 138,
   "metadata": {},
   "outputs": [
    {
     "name": "stdout",
     "output_type": "stream",
     "text": [
      "+----------+--------------------+--------------------+-----------------+--------------------+--------------------+--------------------+--------------------+\n",
      "|      ISBN|               Title|              Author|YearOfPublication|           Publisher|           ImageURLS|           ImageURLM|           ImageURLL|\n",
      "+----------+--------------------+--------------------+-----------------+--------------------+--------------------+--------------------+--------------------+\n",
      "|0195153448| Classical Mythology|  Mark P. O. Morford|             2002|Oxford University...|http://images.ama...|http://images.ama...|http://images.ama...|\n",
      "|0002005018|        Clara Callan|Richard Bruce Wright|             2001|HarperFlamingo Ca...|http://images.ama...|http://images.ama...|http://images.ama...|\n",
      "|0060973129|Decision in Normandy|        Carlo D'Este|             1991|     HarperPerennial|http://images.ama...|http://images.ama...|http://images.ama...|\n",
      "|0374157065|Flu: The Story of...|    Gina Bari Kolata|             1999|Farrar Straus Giroux|http://images.ama...|http://images.ama...|http://images.ama...|\n",
      "|0393045218|The Mummies of Ur...|     E. J. W. Barber|             1999|W. W. Norton &amp...|http://images.ama...|http://images.ama...|http://images.ama...|\n",
      "|0399135782|The Kitchen God's...|             Amy Tan|             1991|    Putnam Pub Group|http://images.ama...|http://images.ama...|http://images.ama...|\n",
      "|0425176428|What If?: The Wor...|       Robert Cowley|             2000|Berkley Publishin...|http://images.ama...|http://images.ama...|http://images.ama...|\n",
      "|0671870432|     PLEADING GUILTY|         Scott Turow|             1993|          Audioworks|http://images.ama...|http://images.ama...|http://images.ama...|\n",
      "|0679425608|Under the Black F...|     David Cordingly|             1996|        Random House|http://images.ama...|http://images.ama...|http://images.ama...|\n",
      "|074322678X|Where You'll Find...|         Ann Beattie|             2002|            Scribner|http://images.ama...|http://images.ama...|http://images.ama...|\n",
      "+----------+--------------------+--------------------+-----------------+--------------------+--------------------+--------------------+--------------------+\n",
      "only showing top 10 rows\n",
      "\n"
     ]
    }
   ],
   "source": [
    "books.show(n = 10)"
   ]
  },
  {
   "cell_type": "code",
   "execution_count": 139,
   "metadata": {},
   "outputs": [
    {
     "name": "stdout",
     "output_type": "stream",
     "text": [
      "root\n",
      " |-- UserID: integer (nullable = true)\n",
      " |-- ISBN: string (nullable = true)\n",
      " |-- Rating: integer (nullable = true)\n",
      "\n"
     ]
    }
   ],
   "source": [
    "ratings.printSchema()"
   ]
  },
  {
   "cell_type": "code",
   "execution_count": 140,
   "metadata": {},
   "outputs": [
    {
     "name": "stdout",
     "output_type": "stream",
     "text": [
      "root\n",
      " |-- UserID: integer (nullable = true)\n",
      " |-- Location: string (nullable = true)\n",
      " |-- Age: string (nullable = true)\n",
      "\n"
     ]
    }
   ],
   "source": [
    "users.printSchema()"
   ]
  },
  {
   "cell_type": "code",
   "execution_count": 141,
   "metadata": {},
   "outputs": [
    {
     "name": "stdout",
     "output_type": "stream",
     "text": [
      "root\n",
      " |-- ISBN: string (nullable = true)\n",
      " |-- Title: string (nullable = true)\n",
      " |-- Author: string (nullable = true)\n",
      " |-- YearOfPublication: string (nullable = true)\n",
      " |-- Publisher: string (nullable = true)\n",
      " |-- ImageURLS: string (nullable = true)\n",
      " |-- ImageURLM: string (nullable = true)\n",
      " |-- ImageURLL: string (nullable = true)\n",
      "\n"
     ]
    }
   ],
   "source": [
    "books.printSchema()"
   ]
  },
  {
   "cell_type": "code",
   "execution_count": 142,
   "metadata": {},
   "outputs": [
    {
     "data": {
      "text/plain": [
       "{'rating': 1149780, 'users': 278859, 'books': 271360}"
      ]
     },
     "execution_count": 142,
     "metadata": {},
     "output_type": "execute_result"
    }
   ],
   "source": [
    "{\n",
    "    'rating': ratings.count(),\n",
    "    'users': users.count(),\n",
    "    'books': books.count()\n",
    "}"
   ]
  },
  {
   "cell_type": "code",
   "execution_count": 143,
   "metadata": {},
   "outputs": [
    {
     "data": {
      "text/plain": [
       "UserID    0\n",
       "ISBN      0\n",
       "Rating    0\n",
       "dtype: int64"
      ]
     },
     "execution_count": 143,
     "metadata": {},
     "output_type": "execute_result"
    }
   ],
   "source": [
    "#count null values:\n",
    "ratings.toPandas().isnull().sum()"
   ]
  },
  {
   "cell_type": "code",
   "execution_count": 144,
   "metadata": {},
   "outputs": [
    {
     "data": {
      "text/plain": [
       "UserID           1\n",
       "Location         0\n",
       "Age         110518\n",
       "dtype: int64"
      ]
     },
     "execution_count": 144,
     "metadata": {},
     "output_type": "execute_result"
    }
   ],
   "source": [
    "#null values in users dataset:\n",
    "users.toPandas().isnull().sum()"
   ]
  },
  {
   "cell_type": "code",
   "execution_count": 145,
   "metadata": {},
   "outputs": [
    {
     "data": {
      "text/plain": [
       "ISBN                 0\n",
       "Title                0\n",
       "Author               1\n",
       "YearOfPublication    0\n",
       "Publisher            2\n",
       "ImageURLS            0\n",
       "ImageURLM            0\n",
       "ImageURLL            3\n",
       "dtype: int64"
      ]
     },
     "execution_count": 145,
     "metadata": {},
     "output_type": "execute_result"
    }
   ],
   "source": [
    "#null values in books dataset:\n",
    "books.toPandas().isnull().sum()"
   ]
  },
  {
   "cell_type": "code",
   "execution_count": 146,
   "metadata": {},
   "outputs": [
    {
     "name": "stdout",
     "output_type": "stream",
     "text": [
      "+-------+------------------+-----------+------------------+\n",
      "|summary|            UserID|       ISBN|            Rating|\n",
      "+-------+------------------+-----------+------------------+\n",
      "|  count|           1149780|    1149780|           1149780|\n",
      "|   mean|140386.39512602412|   Infinity|2.8669501991685364|\n",
      "| stddev| 80562.27771851176|        NaN|3.8541838592016657|\n",
      "|    min|                 2| 0330299891|                 0|\n",
      "|    max|            278854|  Ô½crosoft|                10|\n",
      "+-------+------------------+-----------+------------------+\n",
      "\n"
     ]
    }
   ],
   "source": [
    "ratings.describe().show()"
   ]
  },
  {
   "cell_type": "code",
   "execution_count": 147,
   "metadata": {},
   "outputs": [
    {
     "name": "stdout",
     "output_type": "stream",
     "text": [
      "+------+------+--------------------+\n",
      "|Rating|occure|           frequency|\n",
      "+------+------+--------------------+\n",
      "|     0|716109|  0.6228226269373272|\n",
      "|     8|103736|  0.0902224773434918|\n",
      "|    10| 78610| 0.06836960114108787|\n",
      "|     7| 76457| 0.06649706900450521|\n",
      "|     9| 67541|  0.0587425420515229|\n",
      "|     5| 50974| 0.04433369862060568|\n",
      "|     6| 36924|  0.0321139696289725|\n",
      "|     4|  8904|0.007744090173772374|\n",
      "|     3|  5996|0.005214910678564595|\n",
      "|     2|  2759|0.002399589486684409|\n",
      "|     1|  1770|0.001539424933465...|\n",
      "+------+------+--------------------+\n",
      "\n"
     ]
    }
   ],
   "source": [
    "#getting total ratings\n",
    "total_rating = ratings.count()\n",
    "\n",
    "#counting occurence of rating values and their frequencies:\n",
    "rating_values = (\n",
    "    ratings.groupBy('Rating')\n",
    "    .agg(count('*').alias('occure'))\n",
    "    .orderBy(col('occure').desc())\n",
    "    .withColumn('frequency', col('occure') / total_rating)\n",
    "\n",
    ")\n",
    "\n",
    "rating_values.show()"
   ]
  },
  {
   "cell_type": "code",
   "execution_count": 148,
   "metadata": {},
   "outputs": [
    {
     "data": {
      "image/png": "[encoded data removed]",
      "text/plain": [
       "<Figure size 640x480 with 1 Axes>"
      ]
     },
     "metadata": {},
     "output_type": "display_data"
    }
   ],
   "source": [
    "pandas_rating_values = rating_values.toPandas()\n",
    "\n",
    "plt.bar(pandas_rating_values['Rating'], pandas_rating_values['frequency'])\n",
    "plt.xlabel('rating values')\n",
    "plt.ylabel('frequency')\n",
    "plt.title('rating values and their frequencies')\n",
    "plt.show()"
   ]
  },
  {
   "cell_type": "markdown",
   "metadata": {},
   "source": [
    "the rating value '0' mean that user doesn't provide an explicit feedback so we can remove it from our rating dataset"
   ]
  },
  {
   "cell_type": "markdown",
   "metadata": {},
   "source": [
    "#### search for duplicates"
   ]
  },
  {
   "cell_type": "code",
   "execution_count": 149,
   "metadata": {},
   "outputs": [
    {
     "name": "stdout",
     "output_type": "stream",
     "text": [
      "+------+----------+------------+\n",
      "|UserID|      ISBN|rating-times|\n",
      "+------+----------+------------+\n",
      "|276925|8434830809|           1|\n",
      "|276745| 342310538|           1|\n",
      "|276798|3442437407|           1|\n",
      "|276847|347354034X|           1|\n",
      "|276856|221096900X|           1|\n",
      "+------+----------+------------+\n",
      "only showing top 5 rows\n",
      "\n"
     ]
    }
   ],
   "source": [
    "#ensure each user rate a book one time:\n",
    "(\n",
    "    ratings.groupBy('UserID', 'ISBN')\n",
    "    .agg(count('*').alias('rating-times'))\n",
    "    .orderBy(col('rating-times').desc())\n",
    ").show(n = 5)"
   ]
  },
  {
   "cell_type": "markdown",
   "metadata": {},
   "source": [
    "#### utility matrix\n"
   ]
  },
  {
   "cell_type": "code",
   "execution_count": 150,
   "metadata": {},
   "outputs": [
    {
     "name": "stdout",
     "output_type": "stream",
     "text": [
      "+----------+\n",
      "|      ISBN|\n",
      "+----------+\n",
      "|0971880107|\n",
      "|0316666343|\n",
      "|0385504209|\n",
      "|0060928336|\n",
      "|0312195516|\n",
      "|044023722X|\n",
      "|0679781587|\n",
      "|0142001740|\n",
      "|067976402X|\n",
      "|0671027360|\n",
      "+----------+\n",
      "only showing top 10 rows\n",
      "\n"
     ]
    }
   ],
   "source": [
    "most_rated_books = (\n",
    "    ratings.groupBy('ISBN')\n",
    "    .agg(count('*').alias('rating_times'))\n",
    "    .orderBy(col('rating_times').desc())\n",
    "    .limit(500)\n",
    "    .select('ISBN')\n",
    ")\n",
    "\n",
    "most_rated_books.show(n = 10)"
   ]
  },
  {
   "cell_type": "code",
   "execution_count": 151,
   "metadata": {},
   "outputs": [
    {
     "data": {
      "text/html": [
       "<div>\n",
       "<style scoped>\n",
       "    .dataframe tbody tr th:only-of-type {\n",
       "        vertical-align: middle;\n",
       "    }\n",
       "\n",
       "    .dataframe tbody tr th {\n",
       "        vertical-align: top;\n",
       "    }\n",
       "\n",
       "    .dataframe thead th {\n",
       "        text-align: right;\n",
       "    }\n",
       "</style>\n",
       "<table border=\"1\" class=\"dataframe\">\n",
       "  <thead>\n",
       "    <tr style=\"text-align: right;\">\n",
       "      <th></th>\n",
       "      <th>ISBN</th>\n",
       "      <th>UserID</th>\n",
       "      <th>Rating</th>\n",
       "    </tr>\n",
       "  </thead>\n",
       "  <tbody>\n",
       "    <tr>\n",
       "      <th>0</th>\n",
       "      <td>0060392452</td>\n",
       "      <td>507</td>\n",
       "      <td>0</td>\n",
       "    </tr>\n",
       "    <tr>\n",
       "      <th>1</th>\n",
       "      <td>0060392452</td>\n",
       "      <td>1903</td>\n",
       "      <td>0</td>\n",
       "    </tr>\n",
       "    <tr>\n",
       "      <th>2</th>\n",
       "      <td>0060392452</td>\n",
       "      <td>2179</td>\n",
       "      <td>9</td>\n",
       "    </tr>\n",
       "    <tr>\n",
       "      <th>3</th>\n",
       "      <td>0060392452</td>\n",
       "      <td>2766</td>\n",
       "      <td>0</td>\n",
       "    </tr>\n",
       "    <tr>\n",
       "      <th>4</th>\n",
       "      <td>0060392452</td>\n",
       "      <td>2891</td>\n",
       "      <td>0</td>\n",
       "    </tr>\n",
       "    <tr>\n",
       "      <th>5</th>\n",
       "      <td>0060392452</td>\n",
       "      <td>2977</td>\n",
       "      <td>0</td>\n",
       "    </tr>\n",
       "    <tr>\n",
       "      <th>6</th>\n",
       "      <td>0060392452</td>\n",
       "      <td>4157</td>\n",
       "      <td>8</td>\n",
       "    </tr>\n",
       "    <tr>\n",
       "      <th>7</th>\n",
       "      <td>0060392452</td>\n",
       "      <td>4334</td>\n",
       "      <td>6</td>\n",
       "    </tr>\n",
       "    <tr>\n",
       "      <th>8</th>\n",
       "      <td>0060392452</td>\n",
       "      <td>4795</td>\n",
       "      <td>8</td>\n",
       "    </tr>\n",
       "    <tr>\n",
       "      <th>9</th>\n",
       "      <td>0060392452</td>\n",
       "      <td>5048</td>\n",
       "      <td>10</td>\n",
       "    </tr>\n",
       "  </tbody>\n",
       "</table>\n",
       "</div>"
      ],
      "text/plain": [
       "         ISBN  UserID  Rating\n",
       "0  0060392452     507       0\n",
       "1  0060392452    1903       0\n",
       "2  0060392452    2179       9\n",
       "3  0060392452    2766       0\n",
       "4  0060392452    2891       0\n",
       "5  0060392452    2977       0\n",
       "6  0060392452    4157       8\n",
       "7  0060392452    4334       6\n",
       "8  0060392452    4795       8\n",
       "9  0060392452    5048      10"
      ]
     },
     "execution_count": 151,
     "metadata": {},
     "output_type": "execute_result"
    }
   ],
   "source": [
    "pd_df = (\n",
    "    most_rated_books\n",
    "    .join(ratings, on='ISBN', how='left')\n",
    "    .toPandas()\n",
    ")\n",
    "\n",
    "pd_df.head(10)"
   ]
  },
  {
   "cell_type": "code",
   "execution_count": 152,
   "metadata": {},
   "outputs": [
    {
     "data": {
      "text/plain": [
       "(112755, 3)"
      ]
     },
     "execution_count": 152,
     "metadata": {},
     "output_type": "execute_result"
    }
   ],
   "source": [
    "pd_df.shape"
   ]
  },
  {
   "cell_type": "code",
   "execution_count": 153,
   "metadata": {},
   "outputs": [
    {
     "data": {
      "text/html": [
       "<div>\n",
       "<style scoped>\n",
       "    .dataframe tbody tr th:only-of-type {\n",
       "        vertical-align: middle;\n",
       "    }\n",
       "\n",
       "    .dataframe tbody tr th {\n",
       "        vertical-align: top;\n",
       "    }\n",
       "\n",
       "    .dataframe thead th {\n",
       "        text-align: right;\n",
       "    }\n",
       "</style>\n",
       "<table border=\"1\" class=\"dataframe\">\n",
       "  <thead>\n",
       "    <tr style=\"text-align: right;\">\n",
       "      <th>ISBN</th>\n",
       "      <th>002542730X</th>\n",
       "      <th>006016848X</th>\n",
       "      <th>0060173289</th>\n",
       "      <th>0060175400</th>\n",
       "      <th>0060199652</th>\n",
       "      <th>0060391626</th>\n",
       "      <th>0060392452</th>\n",
       "      <th>0060502258</th>\n",
       "      <th>0060915544</th>\n",
       "      <th>0060921145</th>\n",
       "      <th>...</th>\n",
       "      <th>1400031362</th>\n",
       "      <th>1400034779</th>\n",
       "      <th>155874262X</th>\n",
       "      <th>1558743669</th>\n",
       "      <th>1558744150</th>\n",
       "      <th>1558745157</th>\n",
       "      <th>1559029838</th>\n",
       "      <th>1573225789</th>\n",
       "      <th>1573229326</th>\n",
       "      <th>1878424319</th>\n",
       "    </tr>\n",
       "    <tr>\n",
       "      <th>UserID</th>\n",
       "      <th></th>\n",
       "      <th></th>\n",
       "      <th></th>\n",
       "      <th></th>\n",
       "      <th></th>\n",
       "      <th></th>\n",
       "      <th></th>\n",
       "      <th></th>\n",
       "      <th></th>\n",
       "      <th></th>\n",
       "      <th></th>\n",
       "      <th></th>\n",
       "      <th></th>\n",
       "      <th></th>\n",
       "      <th></th>\n",
       "      <th></th>\n",
       "      <th></th>\n",
       "      <th></th>\n",
       "      <th></th>\n",
       "      <th></th>\n",
       "      <th></th>\n",
       "    </tr>\n",
       "  </thead>\n",
       "  <tbody>\n",
       "    <tr>\n",
       "      <th>9</th>\n",
       "      <td>*</td>\n",
       "      <td>*</td>\n",
       "      <td>*</td>\n",
       "      <td>*</td>\n",
       "      <td>*</td>\n",
       "      <td>*</td>\n",
       "      <td>*</td>\n",
       "      <td>*</td>\n",
       "      <td>*</td>\n",
       "      <td>*</td>\n",
       "      <td>...</td>\n",
       "      <td>*</td>\n",
       "      <td>*</td>\n",
       "      <td>*</td>\n",
       "      <td>*</td>\n",
       "      <td>*</td>\n",
       "      <td>*</td>\n",
       "      <td>*</td>\n",
       "      <td>*</td>\n",
       "      <td>*</td>\n",
       "      <td>*</td>\n",
       "    </tr>\n",
       "    <tr>\n",
       "      <th>14</th>\n",
       "      <td>*</td>\n",
       "      <td>*</td>\n",
       "      <td>*</td>\n",
       "      <td>*</td>\n",
       "      <td>*</td>\n",
       "      <td>*</td>\n",
       "      <td>*</td>\n",
       "      <td>*</td>\n",
       "      <td>*</td>\n",
       "      <td>*</td>\n",
       "      <td>...</td>\n",
       "      <td>*</td>\n",
       "      <td>*</td>\n",
       "      <td>*</td>\n",
       "      <td>*</td>\n",
       "      <td>*</td>\n",
       "      <td>*</td>\n",
       "      <td>*</td>\n",
       "      <td>*</td>\n",
       "      <td>*</td>\n",
       "      <td>*</td>\n",
       "    </tr>\n",
       "    <tr>\n",
       "      <th>16</th>\n",
       "      <td>*</td>\n",
       "      <td>*</td>\n",
       "      <td>*</td>\n",
       "      <td>*</td>\n",
       "      <td>*</td>\n",
       "      <td>*</td>\n",
       "      <td>*</td>\n",
       "      <td>*</td>\n",
       "      <td>*</td>\n",
       "      <td>*</td>\n",
       "      <td>...</td>\n",
       "      <td>*</td>\n",
       "      <td>*</td>\n",
       "      <td>*</td>\n",
       "      <td>*</td>\n",
       "      <td>*</td>\n",
       "      <td>*</td>\n",
       "      <td>*</td>\n",
       "      <td>*</td>\n",
       "      <td>*</td>\n",
       "      <td>*</td>\n",
       "    </tr>\n",
       "    <tr>\n",
       "      <th>26</th>\n",
       "      <td>*</td>\n",
       "      <td>*</td>\n",
       "      <td>*</td>\n",
       "      <td>*</td>\n",
       "      <td>*</td>\n",
       "      <td>*</td>\n",
       "      <td>*</td>\n",
       "      <td>*</td>\n",
       "      <td>*</td>\n",
       "      <td>*</td>\n",
       "      <td>...</td>\n",
       "      <td>*</td>\n",
       "      <td>*</td>\n",
       "      <td>*</td>\n",
       "      <td>*</td>\n",
       "      <td>*</td>\n",
       "      <td>*</td>\n",
       "      <td>*</td>\n",
       "      <td>*</td>\n",
       "      <td>*</td>\n",
       "      <td>*</td>\n",
       "    </tr>\n",
       "    <tr>\n",
       "      <th>39</th>\n",
       "      <td>*</td>\n",
       "      <td>*</td>\n",
       "      <td>*</td>\n",
       "      <td>*</td>\n",
       "      <td>*</td>\n",
       "      <td>*</td>\n",
       "      <td>*</td>\n",
       "      <td>*</td>\n",
       "      <td>*</td>\n",
       "      <td>*</td>\n",
       "      <td>...</td>\n",
       "      <td>*</td>\n",
       "      <td>*</td>\n",
       "      <td>*</td>\n",
       "      <td>*</td>\n",
       "      <td>*</td>\n",
       "      <td>*</td>\n",
       "      <td>*</td>\n",
       "      <td>*</td>\n",
       "      <td>*</td>\n",
       "      <td>*</td>\n",
       "    </tr>\n",
       "    <tr>\n",
       "      <th>...</th>\n",
       "      <td>...</td>\n",
       "      <td>...</td>\n",
       "      <td>...</td>\n",
       "      <td>...</td>\n",
       "      <td>...</td>\n",
       "      <td>...</td>\n",
       "      <td>...</td>\n",
       "      <td>...</td>\n",
       "      <td>...</td>\n",
       "      <td>...</td>\n",
       "      <td>...</td>\n",
       "      <td>...</td>\n",
       "      <td>...</td>\n",
       "      <td>...</td>\n",
       "      <td>...</td>\n",
       "      <td>...</td>\n",
       "      <td>...</td>\n",
       "      <td>...</td>\n",
       "      <td>...</td>\n",
       "      <td>...</td>\n",
       "      <td>...</td>\n",
       "    </tr>\n",
       "    <tr>\n",
       "      <th>278832</th>\n",
       "      <td>*</td>\n",
       "      <td>*</td>\n",
       "      <td>*</td>\n",
       "      <td>*</td>\n",
       "      <td>*</td>\n",
       "      <td>*</td>\n",
       "      <td>*</td>\n",
       "      <td>*</td>\n",
       "      <td>*</td>\n",
       "      <td>*</td>\n",
       "      <td>...</td>\n",
       "      <td>*</td>\n",
       "      <td>*</td>\n",
       "      <td>10.0</td>\n",
       "      <td>*</td>\n",
       "      <td>*</td>\n",
       "      <td>*</td>\n",
       "      <td>*</td>\n",
       "      <td>*</td>\n",
       "      <td>*</td>\n",
       "      <td>*</td>\n",
       "    </tr>\n",
       "    <tr>\n",
       "      <th>278836</th>\n",
       "      <td>*</td>\n",
       "      <td>*</td>\n",
       "      <td>*</td>\n",
       "      <td>*</td>\n",
       "      <td>*</td>\n",
       "      <td>*</td>\n",
       "      <td>*</td>\n",
       "      <td>*</td>\n",
       "      <td>*</td>\n",
       "      <td>*</td>\n",
       "      <td>...</td>\n",
       "      <td>*</td>\n",
       "      <td>*</td>\n",
       "      <td>*</td>\n",
       "      <td>*</td>\n",
       "      <td>*</td>\n",
       "      <td>*</td>\n",
       "      <td>*</td>\n",
       "      <td>*</td>\n",
       "      <td>*</td>\n",
       "      <td>*</td>\n",
       "    </tr>\n",
       "    <tr>\n",
       "      <th>278843</th>\n",
       "      <td>*</td>\n",
       "      <td>*</td>\n",
       "      <td>9.0</td>\n",
       "      <td>*</td>\n",
       "      <td>*</td>\n",
       "      <td>*</td>\n",
       "      <td>*</td>\n",
       "      <td>*</td>\n",
       "      <td>*</td>\n",
       "      <td>*</td>\n",
       "      <td>...</td>\n",
       "      <td>*</td>\n",
       "      <td>*</td>\n",
       "      <td>*</td>\n",
       "      <td>*</td>\n",
       "      <td>*</td>\n",
       "      <td>*</td>\n",
       "      <td>*</td>\n",
       "      <td>*</td>\n",
       "      <td>*</td>\n",
       "      <td>*</td>\n",
       "    </tr>\n",
       "    <tr>\n",
       "      <th>278844</th>\n",
       "      <td>*</td>\n",
       "      <td>*</td>\n",
       "      <td>*</td>\n",
       "      <td>*</td>\n",
       "      <td>*</td>\n",
       "      <td>*</td>\n",
       "      <td>*</td>\n",
       "      <td>*</td>\n",
       "      <td>*</td>\n",
       "      <td>*</td>\n",
       "      <td>...</td>\n",
       "      <td>*</td>\n",
       "      <td>*</td>\n",
       "      <td>*</td>\n",
       "      <td>*</td>\n",
       "      <td>*</td>\n",
       "      <td>*</td>\n",
       "      <td>*</td>\n",
       "      <td>*</td>\n",
       "      <td>*</td>\n",
       "      <td>*</td>\n",
       "    </tr>\n",
       "    <tr>\n",
       "      <th>278854</th>\n",
       "      <td>*</td>\n",
       "      <td>*</td>\n",
       "      <td>*</td>\n",
       "      <td>*</td>\n",
       "      <td>*</td>\n",
       "      <td>*</td>\n",
       "      <td>*</td>\n",
       "      <td>*</td>\n",
       "      <td>*</td>\n",
       "      <td>*</td>\n",
       "      <td>...</td>\n",
       "      <td>*</td>\n",
       "      <td>*</td>\n",
       "      <td>*</td>\n",
       "      <td>*</td>\n",
       "      <td>*</td>\n",
       "      <td>*</td>\n",
       "      <td>*</td>\n",
       "      <td>*</td>\n",
       "      <td>*</td>\n",
       "      <td>*</td>\n",
       "    </tr>\n",
       "  </tbody>\n",
       "</table>\n",
       "<p>29207 rows × 500 columns</p>\n",
       "</div>"
      ],
      "text/plain": [
       "ISBN   002542730X 006016848X 0060173289 0060175400 0060199652 0060391626  \\\n",
       "UserID                                                                     \n",
       "9               *          *          *          *          *          *   \n",
       "14              *          *          *          *          *          *   \n",
       "16              *          *          *          *          *          *   \n",
       "26              *          *          *          *          *          *   \n",
       "39              *          *          *          *          *          *   \n",
       "...           ...        ...        ...        ...        ...        ...   \n",
       "278832          *          *          *          *          *          *   \n",
       "278836          *          *          *          *          *          *   \n",
       "278843          *          *        9.0          *          *          *   \n",
       "278844          *          *          *          *          *          *   \n",
       "278854          *          *          *          *          *          *   \n",
       "\n",
       "ISBN   0060392452 0060502258 0060915544 0060921145  ... 1400031362 1400034779  \\\n",
       "UserID                                              ...                         \n",
       "9               *          *          *          *  ...          *          *   \n",
       "14              *          *          *          *  ...          *          *   \n",
       "16              *          *          *          *  ...          *          *   \n",
       "26              *          *          *          *  ...          *          *   \n",
       "39              *          *          *          *  ...          *          *   \n",
       "...           ...        ...        ...        ...  ...        ...        ...   \n",
       "278832          *          *          *          *  ...          *          *   \n",
       "278836          *          *          *          *  ...          *          *   \n",
       "278843          *          *          *          *  ...          *          *   \n",
       "278844          *          *          *          *  ...          *          *   \n",
       "278854          *          *          *          *  ...          *          *   \n",
       "\n",
       "ISBN   155874262X 1558743669 1558744150 1558745157 1559029838 1573225789  \\\n",
       "UserID                                                                     \n",
       "9               *          *          *          *          *          *   \n",
       "14              *          *          *          *          *          *   \n",
       "16              *          *          *          *          *          *   \n",
       "26              *          *          *          *          *          *   \n",
       "39              *          *          *          *          *          *   \n",
       "...           ...        ...        ...        ...        ...        ...   \n",
       "278832       10.0          *          *          *          *          *   \n",
       "278836          *          *          *          *          *          *   \n",
       "278843          *          *          *          *          *          *   \n",
       "278844          *          *          *          *          *          *   \n",
       "278854          *          *          *          *          *          *   \n",
       "\n",
       "ISBN   1573229326 1878424319  \n",
       "UserID                        \n",
       "9               *          *  \n",
       "14              *          *  \n",
       "16              *          *  \n",
       "26              *          *  \n",
       "39              *          *  \n",
       "...           ...        ...  \n",
       "278832          *          *  \n",
       "278836          *          *  \n",
       "278843          *          *  \n",
       "278844          *          *  \n",
       "278854          *          *  \n",
       "\n",
       "[29207 rows x 500 columns]"
      ]
     },
     "execution_count": 153,
     "metadata": {},
     "output_type": "execute_result"
    }
   ],
   "source": [
    "(\n",
    "    pd_df\n",
    "    .pivot_table(columns='ISBN', index='UserID', values='Rating', fill_value='*')\n",
    ")"
   ]
  },
  {
   "cell_type": "code",
   "execution_count": 154,
   "metadata": {},
   "outputs": [
    {
     "name": "stdout",
     "output_type": "stream",
     "text": [
      "sparsity of rating matrix:  99.99679322889055\n"
     ]
    }
   ],
   "source": [
    "#calculate sparsity: \n",
    "from pyspark.sql.dataframe import DataFrame\n",
    "\n",
    "def sparsity(ratings: DataFrame) -> float:\n",
    "    total_u = ratings.select('UserID').distinct().count()\n",
    "    total_b = ratings.select('ISBN').distinct().count()\n",
    "    missing_r = (total_u * total_b) - ratings.count()\n",
    "\n",
    "    return missing_r * (100 / (total_b * total_u))\n",
    "\n",
    "\n",
    "\n",
    "print('sparsity of rating matrix: ', sparsity(ratings))"
   ]
  },
  {
   "cell_type": "markdown",
   "metadata": {},
   "source": [
    "the given utility matrix is too sparse"
   ]
  },
  {
   "cell_type": "code",
   "execution_count": 155,
   "metadata": {},
   "outputs": [
    {
     "name": "stdout",
     "output_type": "stream",
     "text": [
      "total users those express there preferences:  105283\n",
      "total books:  340556\n"
     ]
    }
   ],
   "source": [
    "total_users = ratings.select('UserID').distinct().count()\n",
    "total_books =  ratings.select('ISBN').distinct().count()\n",
    "\n",
    "print('total users those express there preferences: ', total_users)\n",
    "print('total books: ', total_books)"
   ]
  },
  {
   "cell_type": "code",
   "execution_count": 156,
   "metadata": {},
   "outputs": [
    {
     "name": "stdout",
     "output_type": "stream",
     "text": [
      "+------+-----------+\n",
      "|UserID|total_rated|\n",
      "+------+-----------+\n",
      "| 11676|      13602|\n",
      "|198711|       7550|\n",
      "|153662|       6109|\n",
      "| 98391|       5891|\n",
      "| 35859|       5850|\n",
      "|212898|       4785|\n",
      "|278418|       4533|\n",
      "| 76352|       3367|\n",
      "|110973|       3100|\n",
      "|235105|       3067|\n",
      "+------+-----------+\n",
      "only showing top 10 rows\n",
      "\n"
     ]
    }
   ],
   "source": [
    "#calculate total rating for each user:\n",
    "\n",
    "total_rated_by_user = (\n",
    "    ratings.groupBy('UserID')\n",
    "    .agg(count('*').alias('total_rated'))\n",
    "    .orderBy(col('total_rated').desc())\n",
    ")\n",
    "\n",
    "total_rated_by_user.show( n = 10)"
   ]
  },
  {
   "cell_type": "code",
   "execution_count": 157,
   "metadata": {},
   "outputs": [
    {
     "name": "stdout",
     "output_type": "stream",
     "text": [
      "+-------+-----------+\n",
      "|summary|total_rated|\n",
      "+-------+-----------+\n",
      "|    min|          1|\n",
      "|    max|      13602|\n",
      "+-------+-----------+\n",
      "\n"
     ]
    }
   ],
   "source": [
    "(\n",
    "    total_rated_by_user\n",
    "    .select('total_rated')\n",
    "    .describe()\n",
    "    .where(col('summary').isin(['min', 'max']))\n",
    ").show()"
   ]
  },
  {
   "cell_type": "code",
   "execution_count": 158,
   "metadata": {},
   "outputs": [
    {
     "name": "stdout",
     "output_type": "stream",
     "text": [
      "number of users those rate more than 10 books:  12053\n",
      "number of users those rate less than 10 books:  93230\n"
     ]
    }
   ],
   "source": [
    "total_rated_under_10 = (\n",
    "    total_rated_by_user\n",
    "    .where(col('total_rated') <= 10)\n",
    "    .count() \n",
    ")\n",
    "\n",
    "total_rated_above_10 = (\n",
    "    total_rated_by_user\n",
    "    .where(col('total_rated') > 10)\n",
    "    .count() \n",
    ")\n",
    "\n",
    "print('number of users those rate more than 10 books: ', total_rated_above_10)\n",
    "print('number of users those rate less than 10 books: ', total_rated_under_10)"
   ]
  },
  {
   "cell_type": "code",
   "execution_count": 159,
   "metadata": {},
   "outputs": [
    {
     "data": {
      "image/png": "[encoded data removed]",
      "text/plain": [
       "<Figure size 640x480 with 1 Axes>"
      ]
     },
     "metadata": {},
     "output_type": "display_data"
    }
   ],
   "source": [
    "plt.bar(\n",
    "    ['users rate more than 10 B', 'users rate less than 10 B'],\n",
    "    [total_rated_above_10 * (100 / total_users), total_rated_under_10 * (100 / total_users)],\n",
    "    color=['blue', 'orange']\n",
    ")\n",
    "\n",
    "plt.show()"
   ]
  },
  {
   "cell_type": "markdown",
   "metadata": {},
   "source": [
    "## Data cleaning"
   ]
  },
  {
   "cell_type": "code",
   "execution_count": 160,
   "metadata": {},
   "outputs": [
    {
     "name": "stdout",
     "output_type": "stream",
     "text": [
      "users lenght:  278858\n"
     ]
    }
   ],
   "source": [
    "#removing null values:\n",
    "users =(\n",
    "    users\n",
    "    .select('UserID', 'Location')\n",
    "    .na\n",
    "    .drop()\n",
    ")\n",
    "\n",
    "print('users lenght: ', users.count())"
   ]
  },
  {
   "cell_type": "code",
   "execution_count": 161,
   "metadata": {},
   "outputs": [
    {
     "name": "stdout",
     "output_type": "stream",
     "text": [
      "books lenght:  271354\n"
     ]
    }
   ],
   "source": [
    "#removing null values:\n",
    "books =(\n",
    "    books\n",
    "    .na\n",
    "    .drop()\n",
    ")\n",
    "\n",
    "print('books lenght: ', books.count())"
   ]
  },
  {
   "cell_type": "code",
   "execution_count": 162,
   "metadata": {},
   "outputs": [
    {
     "name": "stdout",
     "output_type": "stream",
     "text": [
      "the new shape of rating dataframe:  (433671, 3)\n",
      "with total users:  77805\n",
      "with total books:  185973\n"
     ]
    }
   ],
   "source": [
    "#remove zero's :\n",
    "\n",
    "ratings = ratings.filter(col('Rating') > 0)\n",
    "\n",
    "new_total_users = ratings.select('UserID').distinct().count()\n",
    "new_total_books =  ratings.select('ISBN').distinct().count()\n",
    "\n",
    "print('the new shape of rating dataframe: ', ratings.toPandas().shape)\n",
    "print('with total users: ', new_total_users)\n",
    "print('with total books: ', new_total_books)"
   ]
  },
  {
   "cell_type": "code",
   "execution_count": 163,
   "metadata": {},
   "outputs": [
    {
     "data": {
      "text/html": [
       "<div>\n",
       "<style scoped>\n",
       "    .dataframe tbody tr th:only-of-type {\n",
       "        vertical-align: middle;\n",
       "    }\n",
       "\n",
       "    .dataframe tbody tr th {\n",
       "        vertical-align: top;\n",
       "    }\n",
       "\n",
       "    .dataframe thead th {\n",
       "        text-align: right;\n",
       "    }\n",
       "</style>\n",
       "<table border=\"1\" class=\"dataframe\">\n",
       "  <thead>\n",
       "    <tr style=\"text-align: right;\">\n",
       "      <th></th>\n",
       "      <th>ISBN</th>\n",
       "      <th>rating_times</th>\n",
       "    </tr>\n",
       "  </thead>\n",
       "  <tbody>\n",
       "    <tr>\n",
       "      <th>440</th>\n",
       "      <td>0375506039</td>\n",
       "      <td>54</td>\n",
       "    </tr>\n",
       "    <tr>\n",
       "      <th>441</th>\n",
       "      <td>0440223202</td>\n",
       "      <td>54</td>\n",
       "    </tr>\n",
       "    <tr>\n",
       "      <th>442</th>\n",
       "      <td>0553280368</td>\n",
       "      <td>54</td>\n",
       "    </tr>\n",
       "    <tr>\n",
       "      <th>443</th>\n",
       "      <td>0671758896</td>\n",
       "      <td>54</td>\n",
       "    </tr>\n",
       "    <tr>\n",
       "      <th>444</th>\n",
       "      <td>0385493800</td>\n",
       "      <td>54</td>\n",
       "    </tr>\n",
       "    <tr>\n",
       "      <th>445</th>\n",
       "      <td>0553280414</td>\n",
       "      <td>54</td>\n",
       "    </tr>\n",
       "    <tr>\n",
       "      <th>446</th>\n",
       "      <td>006099486X</td>\n",
       "      <td>54</td>\n",
       "    </tr>\n",
       "    <tr>\n",
       "      <th>447</th>\n",
       "      <td>0385512104</td>\n",
       "      <td>54</td>\n",
       "    </tr>\n",
       "    <tr>\n",
       "      <th>448</th>\n",
       "      <td>1559029838</td>\n",
       "      <td>54</td>\n",
       "    </tr>\n",
       "    <tr>\n",
       "      <th>449</th>\n",
       "      <td>0553279556</td>\n",
       "      <td>54</td>\n",
       "    </tr>\n",
       "  </tbody>\n",
       "</table>\n",
       "</div>"
      ],
      "text/plain": [
       "           ISBN  rating_times\n",
       "440  0375506039            54\n",
       "441  0440223202            54\n",
       "442  0553280368            54\n",
       "443  0671758896            54\n",
       "444  0385493800            54\n",
       "445  0553280414            54\n",
       "446  006099486X            54\n",
       "447  0385512104            54\n",
       "448  1559029838            54\n",
       "449  0553279556            54"
      ]
     },
     "execution_count": 163,
     "metadata": {},
     "output_type": "execute_result"
    }
   ],
   "source": [
    "#most rated books:\n",
    "most_rated_books = (\n",
    "    ratings.groupBy('ISBN')\n",
    "    .agg(count('*').alias('rating_times'))\n",
    "    .orderBy(col('rating_times').desc())\n",
    "    .limit(450)\n",
    ")\n",
    "\n",
    "most_rated_books.toPandas().tail(n = 10)\n"
   ]
  },
  {
   "cell_type": "code",
   "execution_count": 164,
   "metadata": {},
   "outputs": [
    {
     "name": "stdout",
     "output_type": "stream",
     "text": [
      "+------+----------+------+\n",
      "|UserID|      ISBN|Rating|\n",
      "+------+----------+------+\n",
      "|  2033|0099428385|     8|\n",
      "| 60427|0099428385|     7|\n",
      "| 88352|0099428385|     6|\n",
      "|163727|0099428385|     8|\n",
      "|174092|0099428385|     9|\n",
      "|175759|0099428385|    10|\n",
      "|194646|0099428385|     8|\n",
      "|206979|0099428385|     7|\n",
      "|256247|0099428385|     8|\n",
      "|  1131|0174434642|     8|\n",
      "| 76626|0174434642|    10|\n",
      "|  2439|0345367421|     7|\n",
      "| 39396|0345367421|     7|\n",
      "| 46398|0345367421|     7|\n",
      "|105517|0345367421|     8|\n",
      "|130705|0345367421|     7|\n",
      "|193458|0345367421|     7|\n",
      "|243236|0345367421|     7|\n",
      "|277873|0395977894|    10|\n",
      "| 43404|0395977894|     5|\n",
      "+------+----------+------+\n",
      "only showing top 20 rows\n",
      "\n"
     ]
    }
   ],
   "source": [
    "ratings_filtered = (\n",
    "    most_rated_books\n",
    "    .join(ratings, on='ISBN', how='left')\n",
    "    .select('UserID', 'ISBN', 'Rating')\n",
    ")\n",
    "ratings_filtered.show()"
   ]
  },
  {
   "cell_type": "code",
   "execution_count": 165,
   "metadata": {},
   "outputs": [
    {
     "data": {
      "text/plain": [
       "45712"
      ]
     },
     "execution_count": 165,
     "metadata": {},
     "output_type": "execute_result"
    }
   ],
   "source": [
    "ratings_filtered.count()"
   ]
  },
  {
   "cell_type": "code",
   "execution_count": 166,
   "metadata": {},
   "outputs": [
    {
     "name": "stdout",
     "output_type": "stream",
     "text": [
      "rating length:  45712\n"
     ]
    }
   ],
   "source": [
    "ratings_filtered = (\n",
    "    ratings_filtered\n",
    "    .join(users, on='UserID', how='inner')\n",
    "    .select('UserID', 'ISBN', 'Rating')\n",
    ")\n",
    "\n",
    "print('rating length: ', ratings_filtered.count())"
   ]
  },
  {
   "cell_type": "code",
   "execution_count": 167,
   "metadata": {},
   "outputs": [
    {
     "name": "stdout",
     "output_type": "stream",
     "text": [
      "rating length:  45238\n"
     ]
    }
   ],
   "source": [
    "ratings_filtered = (\n",
    "    ratings_filtered\n",
    "    .join(books, on='ISBN', how='inner')\n",
    "    .select('UserID', 'ISBN', 'Rating')\n",
    ")\n",
    "\n",
    "print('rating length: ', ratings_filtered.count())"
   ]
  },
  {
   "cell_type": "code",
   "execution_count": 168,
   "metadata": {},
   "outputs": [
    {
     "name": "stdout",
     "output_type": "stream",
     "text": [
      "+------+----------+------+--------+\n",
      "|UserID|      ISBN|Rating|numBooks|\n",
      "+------+----------+------+--------+\n",
      "|   254|0451167317|     8|      12|\n",
      "|   254|0380789035|    10|      12|\n",
      "|   254|0439136350|     9|      12|\n",
      "|   254|0439139597|     9|      12|\n",
      "|   254|0142001740|     9|      12|\n",
      "|   254|0439136369|     9|      12|\n",
      "|   254|0451524934|     9|      12|\n",
      "|   254|0439064864|     9|      12|\n",
      "|   254|0451526341|     8|      12|\n",
      "|   254|0671021001|     7|      12|\n",
      "|   254|0590353403|     9|      12|\n",
      "|   254|0439064872|     9|      12|\n",
      "|   638|0670892963|     7|      14|\n",
      "|   638|0679746048|     7|      14|\n",
      "|   638|0385504209|    10|      14|\n",
      "|   638|0316969443|    10|      14|\n",
      "|   638|0316789089|    10|      14|\n",
      "|   638|0446531332|    10|      14|\n",
      "|   638|0385505833|    10|      14|\n",
      "|   638|0316693200|     9|      14|\n",
      "+------+----------+------+--------+\n",
      "only showing top 20 rows\n",
      "\n"
     ]
    }
   ],
   "source": [
    "#create a views partitioned by userID:\n",
    "user_window = Window.partitionBy('UserID')\n",
    "\n",
    "ratings_filtered = ratings_filtered.withColumn('numBooks', count('*').over(user_window))\n",
    "ratings_filtered = ratings_filtered.filter(col('numBooks') >= 10)\n",
    "\n",
    "ratings_filtered.show()"
   ]
  },
  {
   "cell_type": "code",
   "execution_count": 169,
   "metadata": {},
   "outputs": [
    {
     "name": "stdout",
     "output_type": "stream",
     "text": [
      "number of books:  447\n",
      "number of users:  670\n"
     ]
    }
   ],
   "source": [
    "num_books = ratings_filtered.select('ISBN').distinct().count()\n",
    "num_users = ratings_filtered.select('UserID').distinct().count()\n",
    "\n",
    "print('number of books: ', num_books)\n",
    "print('number of users: ', num_users)\n"
   ]
  },
  {
   "cell_type": "code",
   "execution_count": 170,
   "metadata": {},
   "outputs": [
    {
     "data": {
      "text/html": [
       "<div>\n",
       "<style scoped>\n",
       "    .dataframe tbody tr th:only-of-type {\n",
       "        vertical-align: middle;\n",
       "    }\n",
       "\n",
       "    .dataframe tbody tr th {\n",
       "        vertical-align: top;\n",
       "    }\n",
       "\n",
       "    .dataframe thead th {\n",
       "        text-align: right;\n",
       "    }\n",
       "</style>\n",
       "<table border=\"1\" class=\"dataframe\">\n",
       "  <thead>\n",
       "    <tr style=\"text-align: right;\">\n",
       "      <th>ISBN</th>\n",
       "      <th>002542730X</th>\n",
       "      <th>006016848X</th>\n",
       "      <th>0060173289</th>\n",
       "      <th>0060175400</th>\n",
       "      <th>0060199652</th>\n",
       "      <th>0060391626</th>\n",
       "      <th>0060392452</th>\n",
       "      <th>0060502258</th>\n",
       "      <th>0060915544</th>\n",
       "      <th>0060921145</th>\n",
       "      <th>...</th>\n",
       "      <th>1400034779</th>\n",
       "      <th>155874262X</th>\n",
       "      <th>1558743669</th>\n",
       "      <th>1558744150</th>\n",
       "      <th>1558745157</th>\n",
       "      <th>1573225789</th>\n",
       "      <th>1573229326</th>\n",
       "      <th>1573229571</th>\n",
       "      <th>1592400876</th>\n",
       "      <th>1878424319</th>\n",
       "    </tr>\n",
       "    <tr>\n",
       "      <th>UserID</th>\n",
       "      <th></th>\n",
       "      <th></th>\n",
       "      <th></th>\n",
       "      <th></th>\n",
       "      <th></th>\n",
       "      <th></th>\n",
       "      <th></th>\n",
       "      <th></th>\n",
       "      <th></th>\n",
       "      <th></th>\n",
       "      <th></th>\n",
       "      <th></th>\n",
       "      <th></th>\n",
       "      <th></th>\n",
       "      <th></th>\n",
       "      <th></th>\n",
       "      <th></th>\n",
       "      <th></th>\n",
       "      <th></th>\n",
       "      <th></th>\n",
       "      <th></th>\n",
       "    </tr>\n",
       "  </thead>\n",
       "  <tbody>\n",
       "    <tr>\n",
       "      <th>254</th>\n",
       "      <td>0</td>\n",
       "      <td>0</td>\n",
       "      <td>0</td>\n",
       "      <td>0</td>\n",
       "      <td>0</td>\n",
       "      <td>0</td>\n",
       "      <td>0</td>\n",
       "      <td>0</td>\n",
       "      <td>0</td>\n",
       "      <td>0</td>\n",
       "      <td>...</td>\n",
       "      <td>0</td>\n",
       "      <td>0</td>\n",
       "      <td>0</td>\n",
       "      <td>0</td>\n",
       "      <td>0</td>\n",
       "      <td>0</td>\n",
       "      <td>0</td>\n",
       "      <td>0</td>\n",
       "      <td>0</td>\n",
       "      <td>0</td>\n",
       "    </tr>\n",
       "    <tr>\n",
       "      <th>638</th>\n",
       "      <td>0</td>\n",
       "      <td>0</td>\n",
       "      <td>0</td>\n",
       "      <td>0</td>\n",
       "      <td>0</td>\n",
       "      <td>0</td>\n",
       "      <td>0</td>\n",
       "      <td>0</td>\n",
       "      <td>0</td>\n",
       "      <td>0</td>\n",
       "      <td>...</td>\n",
       "      <td>0</td>\n",
       "      <td>0</td>\n",
       "      <td>0</td>\n",
       "      <td>0</td>\n",
       "      <td>0</td>\n",
       "      <td>0</td>\n",
       "      <td>0</td>\n",
       "      <td>0</td>\n",
       "      <td>0</td>\n",
       "      <td>0</td>\n",
       "    </tr>\n",
       "    <tr>\n",
       "      <th>1435</th>\n",
       "      <td>0</td>\n",
       "      <td>0</td>\n",
       "      <td>0</td>\n",
       "      <td>0</td>\n",
       "      <td>0</td>\n",
       "      <td>0</td>\n",
       "      <td>0</td>\n",
       "      <td>0</td>\n",
       "      <td>10.0</td>\n",
       "      <td>0</td>\n",
       "      <td>...</td>\n",
       "      <td>0</td>\n",
       "      <td>10.0</td>\n",
       "      <td>0</td>\n",
       "      <td>0</td>\n",
       "      <td>0</td>\n",
       "      <td>0</td>\n",
       "      <td>0</td>\n",
       "      <td>0</td>\n",
       "      <td>0</td>\n",
       "      <td>0</td>\n",
       "    </tr>\n",
       "    <tr>\n",
       "      <th>2766</th>\n",
       "      <td>0</td>\n",
       "      <td>0</td>\n",
       "      <td>0</td>\n",
       "      <td>0</td>\n",
       "      <td>0</td>\n",
       "      <td>0</td>\n",
       "      <td>0</td>\n",
       "      <td>0</td>\n",
       "      <td>0</td>\n",
       "      <td>0</td>\n",
       "      <td>...</td>\n",
       "      <td>0</td>\n",
       "      <td>0</td>\n",
       "      <td>0</td>\n",
       "      <td>0</td>\n",
       "      <td>0</td>\n",
       "      <td>0</td>\n",
       "      <td>0</td>\n",
       "      <td>0</td>\n",
       "      <td>0</td>\n",
       "      <td>0</td>\n",
       "    </tr>\n",
       "    <tr>\n",
       "      <th>4017</th>\n",
       "      <td>0</td>\n",
       "      <td>0</td>\n",
       "      <td>0</td>\n",
       "      <td>0</td>\n",
       "      <td>0</td>\n",
       "      <td>0</td>\n",
       "      <td>0</td>\n",
       "      <td>0</td>\n",
       "      <td>8.0</td>\n",
       "      <td>0</td>\n",
       "      <td>...</td>\n",
       "      <td>0</td>\n",
       "      <td>0</td>\n",
       "      <td>0</td>\n",
       "      <td>0</td>\n",
       "      <td>0</td>\n",
       "      <td>9.0</td>\n",
       "      <td>0</td>\n",
       "      <td>0</td>\n",
       "      <td>0</td>\n",
       "      <td>0</td>\n",
       "    </tr>\n",
       "    <tr>\n",
       "      <th>...</th>\n",
       "      <td>...</td>\n",
       "      <td>...</td>\n",
       "      <td>...</td>\n",
       "      <td>...</td>\n",
       "      <td>...</td>\n",
       "      <td>...</td>\n",
       "      <td>...</td>\n",
       "      <td>...</td>\n",
       "      <td>...</td>\n",
       "      <td>...</td>\n",
       "      <td>...</td>\n",
       "      <td>...</td>\n",
       "      <td>...</td>\n",
       "      <td>...</td>\n",
       "      <td>...</td>\n",
       "      <td>...</td>\n",
       "      <td>...</td>\n",
       "      <td>...</td>\n",
       "      <td>...</td>\n",
       "      <td>...</td>\n",
       "      <td>...</td>\n",
       "    </tr>\n",
       "    <tr>\n",
       "      <th>276165</th>\n",
       "      <td>0</td>\n",
       "      <td>0</td>\n",
       "      <td>0</td>\n",
       "      <td>0</td>\n",
       "      <td>0</td>\n",
       "      <td>0</td>\n",
       "      <td>0</td>\n",
       "      <td>0</td>\n",
       "      <td>0</td>\n",
       "      <td>0</td>\n",
       "      <td>...</td>\n",
       "      <td>0</td>\n",
       "      <td>0</td>\n",
       "      <td>0</td>\n",
       "      <td>0</td>\n",
       "      <td>0</td>\n",
       "      <td>0</td>\n",
       "      <td>0</td>\n",
       "      <td>0</td>\n",
       "      <td>0</td>\n",
       "      <td>0</td>\n",
       "    </tr>\n",
       "    <tr>\n",
       "      <th>276231</th>\n",
       "      <td>0</td>\n",
       "      <td>0</td>\n",
       "      <td>0</td>\n",
       "      <td>0</td>\n",
       "      <td>0</td>\n",
       "      <td>0</td>\n",
       "      <td>0</td>\n",
       "      <td>0</td>\n",
       "      <td>0</td>\n",
       "      <td>0</td>\n",
       "      <td>...</td>\n",
       "      <td>0</td>\n",
       "      <td>0</td>\n",
       "      <td>0</td>\n",
       "      <td>0</td>\n",
       "      <td>0</td>\n",
       "      <td>0</td>\n",
       "      <td>0</td>\n",
       "      <td>0</td>\n",
       "      <td>0</td>\n",
       "      <td>0</td>\n",
       "    </tr>\n",
       "    <tr>\n",
       "      <th>276680</th>\n",
       "      <td>0</td>\n",
       "      <td>0</td>\n",
       "      <td>0</td>\n",
       "      <td>0</td>\n",
       "      <td>0</td>\n",
       "      <td>0</td>\n",
       "      <td>0</td>\n",
       "      <td>0</td>\n",
       "      <td>0</td>\n",
       "      <td>0</td>\n",
       "      <td>...</td>\n",
       "      <td>0</td>\n",
       "      <td>0</td>\n",
       "      <td>0</td>\n",
       "      <td>0</td>\n",
       "      <td>0</td>\n",
       "      <td>0</td>\n",
       "      <td>0</td>\n",
       "      <td>0</td>\n",
       "      <td>0</td>\n",
       "      <td>0</td>\n",
       "    </tr>\n",
       "    <tr>\n",
       "      <th>277427</th>\n",
       "      <td>10.0</td>\n",
       "      <td>0</td>\n",
       "      <td>0</td>\n",
       "      <td>0</td>\n",
       "      <td>0</td>\n",
       "      <td>0</td>\n",
       "      <td>0</td>\n",
       "      <td>0</td>\n",
       "      <td>0</td>\n",
       "      <td>0</td>\n",
       "      <td>...</td>\n",
       "      <td>0</td>\n",
       "      <td>0</td>\n",
       "      <td>0</td>\n",
       "      <td>0</td>\n",
       "      <td>0</td>\n",
       "      <td>0</td>\n",
       "      <td>0</td>\n",
       "      <td>0</td>\n",
       "      <td>0</td>\n",
       "      <td>0</td>\n",
       "    </tr>\n",
       "    <tr>\n",
       "      <th>278633</th>\n",
       "      <td>0</td>\n",
       "      <td>0</td>\n",
       "      <td>0</td>\n",
       "      <td>0</td>\n",
       "      <td>0</td>\n",
       "      <td>0</td>\n",
       "      <td>0</td>\n",
       "      <td>0</td>\n",
       "      <td>0</td>\n",
       "      <td>0</td>\n",
       "      <td>...</td>\n",
       "      <td>0</td>\n",
       "      <td>0</td>\n",
       "      <td>0</td>\n",
       "      <td>0</td>\n",
       "      <td>0</td>\n",
       "      <td>0</td>\n",
       "      <td>0</td>\n",
       "      <td>0</td>\n",
       "      <td>0</td>\n",
       "      <td>0</td>\n",
       "    </tr>\n",
       "  </tbody>\n",
       "</table>\n",
       "<p>670 rows × 447 columns</p>\n",
       "</div>"
      ],
      "text/plain": [
       "ISBN   002542730X 006016848X 0060173289 0060175400 0060199652 0060391626  \\\n",
       "UserID                                                                     \n",
       "254             0          0          0          0          0          0   \n",
       "638             0          0          0          0          0          0   \n",
       "1435            0          0          0          0          0          0   \n",
       "2766            0          0          0          0          0          0   \n",
       "4017            0          0          0          0          0          0   \n",
       "...           ...        ...        ...        ...        ...        ...   \n",
       "276165          0          0          0          0          0          0   \n",
       "276231          0          0          0          0          0          0   \n",
       "276680          0          0          0          0          0          0   \n",
       "277427       10.0          0          0          0          0          0   \n",
       "278633          0          0          0          0          0          0   \n",
       "\n",
       "ISBN   0060392452 0060502258 0060915544 0060921145  ... 1400034779 155874262X  \\\n",
       "UserID                                              ...                         \n",
       "254             0          0          0          0  ...          0          0   \n",
       "638             0          0          0          0  ...          0          0   \n",
       "1435            0          0       10.0          0  ...          0       10.0   \n",
       "2766            0          0          0          0  ...          0          0   \n",
       "4017            0          0        8.0          0  ...          0          0   \n",
       "...           ...        ...        ...        ...  ...        ...        ...   \n",
       "276165          0          0          0          0  ...          0          0   \n",
       "276231          0          0          0          0  ...          0          0   \n",
       "276680          0          0          0          0  ...          0          0   \n",
       "277427          0          0          0          0  ...          0          0   \n",
       "278633          0          0          0          0  ...          0          0   \n",
       "\n",
       "ISBN   1558743669 1558744150 1558745157 1573225789 1573229326 1573229571  \\\n",
       "UserID                                                                     \n",
       "254             0          0          0          0          0          0   \n",
       "638             0          0          0          0          0          0   \n",
       "1435            0          0          0          0          0          0   \n",
       "2766            0          0          0          0          0          0   \n",
       "4017            0          0          0        9.0          0          0   \n",
       "...           ...        ...        ...        ...        ...        ...   \n",
       "276165          0          0          0          0          0          0   \n",
       "276231          0          0          0          0          0          0   \n",
       "276680          0          0          0          0          0          0   \n",
       "277427          0          0          0          0          0          0   \n",
       "278633          0          0          0          0          0          0   \n",
       "\n",
       "ISBN   1592400876 1878424319  \n",
       "UserID                        \n",
       "254             0          0  \n",
       "638             0          0  \n",
       "1435            0          0  \n",
       "2766            0          0  \n",
       "4017            0          0  \n",
       "...           ...        ...  \n",
       "276165          0          0  \n",
       "276231          0          0  \n",
       "276680          0          0  \n",
       "277427          0          0  \n",
       "278633          0          0  \n",
       "\n",
       "[670 rows x 447 columns]"
      ]
     },
     "execution_count": 170,
     "metadata": {},
     "output_type": "execute_result"
    }
   ],
   "source": [
    "(\n",
    "    ratings_filtered\n",
    "    .toPandas()\n",
    "    .pivot_table(columns='ISBN', index='UserID', values='Rating', fill_value='0')\n",
    ")"
   ]
  },
  {
   "cell_type": "code",
   "execution_count": 171,
   "metadata": {},
   "outputs": [
    {
     "name": "stdout",
     "output_type": "stream",
     "text": [
      "sparsity of rating matrix:  96.09903502621123\n"
     ]
    }
   ],
   "source": [
    "print('sparsity of rating matrix: ', sparsity(ratings_filtered))"
   ]
  },
  {
   "cell_type": "code",
   "execution_count": 172,
   "metadata": {},
   "outputs": [
    {
     "name": "stdout",
     "output_type": "stream",
     "text": [
      "+------+----------+------+--------+\n",
      "|UserID|      ISBN|Rating|numBooks|\n",
      "+------+----------+------+--------+\n",
      "|   254|0451167317|     8|      12|\n",
      "|   254|0380789035|    10|      12|\n",
      "|   254|0439136350|     9|      12|\n",
      "|   254|0439139597|     9|      12|\n",
      "|   254|0142001740|     9|      12|\n",
      "+------+----------+------+--------+\n",
      "only showing top 5 rows\n",
      "\n"
     ]
    }
   ],
   "source": [
    "#train and test dataset:\n",
    "\n",
    "ratings_filtered.show(n = 5)"
   ]
  },
  {
   "cell_type": "code",
   "execution_count": 173,
   "metadata": {},
   "outputs": [
    {
     "name": "stdout",
     "output_type": "stream",
     "text": [
      "+------+----------+------+--------+-----------------+---------+\n",
      "|UserID|      ISBN|Rating|numBooks|num_books_to_mask|book_rank|\n",
      "+------+----------+------+--------+-----------------+---------+\n",
      "|   254|0671021001|     7|      12|                3|        1|\n",
      "|   254|0590353403|     9|      12|                3|        2|\n",
      "|   254|0451526341|     8|      12|                3|        3|\n",
      "|   254|0451524934|     9|      12|                3|        4|\n",
      "|   254|0451167317|     8|      12|                3|        5|\n",
      "|   254|0439139597|     9|      12|                3|        6|\n",
      "|   254|0439136369|     9|      12|                3|        7|\n",
      "|   254|0439136350|     9|      12|                3|        8|\n",
      "|   254|0439064872|     9|      12|                3|        9|\n",
      "|   254|0439064864|     9|      12|                3|       10|\n",
      "|   254|0380789035|    10|      12|                3|       11|\n",
      "|   254|0142001740|     9|      12|                3|       12|\n",
      "|   638|0679746048|     7|      14|                4|        1|\n",
      "|   638|0670892963|     7|      14|                4|        2|\n",
      "|   638|0446531332|    10|      14|                4|        3|\n",
      "|   638|0385505833|    10|      14|                4|        4|\n",
      "|   638|0385504209|    10|      14|                4|        5|\n",
      "|   638|0385420161|     9|      14|                4|        6|\n",
      "|   638|0345339711|    10|      14|                4|        7|\n",
      "|   638|0316969443|    10|      14|                4|        8|\n",
      "+------+----------+------+--------+-----------------+---------+\n",
      "only showing top 20 rows\n",
      "\n"
     ]
    }
   ],
   "source": [
    "percent_books_to_mask = 0.3\n",
    "\n",
    "ratings_filtered = (\n",
    "    ratings_filtered\n",
    "    .withColumn('num_books_to_mask', (col('numBooks') * percent_books_to_mask).cast('int'))\n",
    "    .withColumn('book_rank', rank().over(user_window.orderBy(col('ISBN').desc())))\n",
    ")\n",
    "\n",
    "ratings_filtered.show()"
   ]
  },
  {
   "cell_type": "code",
   "execution_count": 174,
   "metadata": {},
   "outputs": [
    {
     "name": "stdout",
     "output_type": "stream",
     "text": [
      "+------+----------+------+--------+-----------------+---------+------------+\n",
      "|UserID|      ISBN|Rating|numBooks|num_books_to_mask|book_rank|integer_isbn|\n",
      "+------+----------+------+--------+-----------------+---------+------------+\n",
      "|   254|0671021001|     7|      12|                3|        1|        30.0|\n",
      "|   254|0590353403|     9|      12|                3|        2|        56.0|\n",
      "|   254|0451526341|     8|      12|                3|        3|       142.0|\n",
      "|   254|0451524934|     9|      12|                3|        4|       192.0|\n",
      "|   254|0451167317|     8|      12|                3|        5|       107.0|\n",
      "|   254|0439139597|     9|      12|                3|        6|        40.0|\n",
      "|   254|0439136369|     9|      12|                3|        7|       138.0|\n",
      "+------+----------+------+--------+-----------------+---------+------------+\n",
      "only showing top 7 rows\n",
      "\n"
     ]
    }
   ],
   "source": [
    "from pyspark.ml.feature import StringIndexer\n",
    "\n",
    "isbn_indexer = StringIndexer(\n",
    "    inputCol='ISBN', \n",
    "    outputCol='integer_isbn'\n",
    ").setHandleInvalid('keep')\n",
    "\n",
    "\n",
    "ratings_filtered = isbn_indexer.fit(ratings_filtered).transform(ratings_filtered)\n",
    "\n",
    "ratings_filtered.show(n = 7)\n"
   ]
  },
  {
   "cell_type": "code",
   "execution_count": 175,
   "metadata": {},
   "outputs": [
    {
     "name": "stdout",
     "output_type": "stream",
     "text": [
      "+------+----------+------+--------+-----------------+---------+------------+\n",
      "|UserID|      ISBN|Rating|numBooks|num_books_to_mask|book_rank|integer_isbn|\n",
      "+------+----------+------+--------+-----------------+---------+------------+\n",
      "|   254|0671021001|     7|      12|                3|        1|          30|\n",
      "|   254|0590353403|     9|      12|                3|        2|          56|\n",
      "|   254|0451526341|     8|      12|                3|        3|         142|\n",
      "|   254|0451524934|     9|      12|                3|        4|         192|\n",
      "|   254|0451167317|     8|      12|                3|        5|         107|\n",
      "|   254|0439139597|     9|      12|                3|        6|          40|\n",
      "|   254|0439136369|     9|      12|                3|        7|         138|\n",
      "+------+----------+------+--------+-----------------+---------+------------+\n",
      "only showing top 7 rows\n",
      "\n"
     ]
    }
   ],
   "source": [
    "#cast integer_isbn to int:\n",
    "ratings_filtered = (\n",
    "    ratings_filtered\n",
    "    .withColumn('integer_isbn', col('integer_isbn').cast('int'))\n",
    ")\n",
    "\n",
    "ratings_filtered.show(n = 7)"
   ]
  },
  {
   "cell_type": "code",
   "execution_count": 176,
   "metadata": {},
   "outputs": [],
   "source": [
    "train_df = ratings_filtered.filter(col('book_rank') > col('num_books_to_mask'))\n",
    "\n",
    "test_df = ratings_filtered.filter(col('book_rank') <= col('num_books_to_mask'))"
   ]
  },
  {
   "cell_type": "code",
   "execution_count": 177,
   "metadata": {},
   "outputs": [
    {
     "name": "stdout",
     "output_type": "stream",
     "text": [
      "+------+----------+------+--------+-----------------+---------+------------+\n",
      "|UserID|      ISBN|Rating|numBooks|num_books_to_mask|book_rank|integer_isbn|\n",
      "+------+----------+------+--------+-----------------+---------+------------+\n",
      "|   254|0451524934|     9|      12|                3|        4|         192|\n",
      "|   254|0451167317|     8|      12|                3|        5|         107|\n",
      "|   254|0439139597|     9|      12|                3|        6|          40|\n",
      "|   254|0439136369|     9|      12|                3|        7|         138|\n",
      "|   254|0439136350|     9|      12|                3|        8|          31|\n",
      "+------+----------+------+--------+-----------------+---------+------------+\n",
      "only showing top 5 rows\n",
      "\n"
     ]
    }
   ],
   "source": [
    "train_df.show(5)"
   ]
  },
  {
   "cell_type": "code",
   "execution_count": 178,
   "metadata": {},
   "outputs": [
    {
     "name": "stdout",
     "output_type": "stream",
     "text": [
      "+------+----------+------+--------+-----------------+---------+------------+\n",
      "|UserID|      ISBN|Rating|numBooks|num_books_to_mask|book_rank|integer_isbn|\n",
      "+------+----------+------+--------+-----------------+---------+------------+\n",
      "|   254|0671021001|     7|      12|                3|        1|          30|\n",
      "|   254|0590353403|     9|      12|                3|        2|          56|\n",
      "|   254|0451526341|     8|      12|                3|        3|         142|\n",
      "|   638|0679746048|     7|      14|                4|        1|         122|\n",
      "|   638|0670892963|     7|      14|                4|        2|         193|\n",
      "+------+----------+------+--------+-----------------+---------+------------+\n",
      "only showing top 5 rows\n",
      "\n"
     ]
    }
   ],
   "source": [
    "test_df.show(5)"
   ]
  },
  {
   "cell_type": "markdown",
   "metadata": {},
   "source": [
    "### Model building"
   ]
  },
  {
   "cell_type": "code",
   "execution_count": 179,
   "metadata": {},
   "outputs": [],
   "source": [
    "from pyspark.ml.recommendation import ALS, ALSModel\n",
    "from pyspark.ml.evaluation import RegressionEvaluator\n",
    "from pyspark.ml.tuning import CrossValidator, ParamGridBuilder, TrainValidationSplit\n",
    "\n",
    "\n",
    "als = ALS(\n",
    "    userCol='UserID', \n",
    "    itemCol='integer_isbn', \n",
    "    ratingCol='Rating', \n",
    "    coldStartStrategy='drop', \n",
    "    nonnegative=True\n",
    ")\n"
   ]
  },
  {
   "cell_type": "code",
   "execution_count": 180,
   "metadata": {},
   "outputs": [],
   "source": [
    "param_grid = (\n",
    "    ParamGridBuilder()\n",
    "    .addGrid(als.rank, [1,])\n",
    "    .addGrid(als.maxIter, [20,])\n",
    "    .addGrid(als.regParam, [0.05,])\n",
    ").build()"
   ]
  },
  {
   "cell_type": "code",
   "execution_count": 181,
   "metadata": {},
   "outputs": [],
   "source": [
    "evaluator = RegressionEvaluator(metricName='rmse', labelCol='Rating')"
   ]
  },
  {
   "cell_type": "code",
   "execution_count": 182,
   "metadata": {},
   "outputs": [],
   "source": [
    "cv = CrossValidator(\n",
    "    estimator=als,\n",
    "    estimatorParamMaps=param_grid,\n",
    "    evaluator=evaluator,\n",
    "    numFolds=5\n",
    ")"
   ]
  },
  {
   "cell_type": "code",
   "execution_count": 183,
   "metadata": {},
   "outputs": [],
   "source": [
    "model = cv.fit(train_df)"
   ]
  },
  {
   "cell_type": "code",
   "execution_count": 184,
   "metadata": {},
   "outputs": [
    {
     "name": "stdout",
     "output_type": "stream",
     "text": [
      "rank:  1\n",
      "MaxIter:  20\n",
      "RegParam:  0.05\n"
     ]
    }
   ],
   "source": [
    "best = model.bestModel\n",
    "\n",
    "print('rank: ', best.rank)\n",
    "print('MaxIter: ', best._java_obj.parent().getMaxIter())\n",
    "print('RegParam: ', best._java_obj.parent().getRegParam())"
   ]
  },
  {
   "cell_type": "markdown",
   "metadata": {},
   "source": [
    "#### Re-training"
   ]
  },
  {
   "cell_type": "code",
   "execution_count": 185,
   "metadata": {},
   "outputs": [],
   "source": [
    "mdl = als.fit(train_df)"
   ]
  },
  {
   "cell_type": "markdown",
   "metadata": {},
   "source": [
    "### Evaluation"
   ]
  },
  {
   "cell_type": "code",
   "execution_count": 186,
   "metadata": {},
   "outputs": [
    {
     "name": "stdout",
     "output_type": "stream",
     "text": [
      "+------+----------+------+--------+-----------------+---------+------------+----------+\n",
      "|UserID|      ISBN|Rating|numBooks|num_books_to_mask|book_rank|integer_isbn|prediction|\n",
      "+------+----------+------+--------+-----------------+---------+------------+----------+\n",
      "|   254|0451524934|     9|      12|                3|        4|         192|   8.89079|\n",
      "|   254|0451167317|     8|      12|                3|        5|         107|  8.111741|\n",
      "|   254|0439139597|     9|      12|                3|        6|          40|  9.246851|\n",
      "|   254|0439136369|     9|      12|                3|        7|         138|  8.842188|\n",
      "|   254|0439136350|     9|      12|                3|        8|          31|  8.914899|\n",
      "|   254|0439064872|     9|      12|                3|        9|          41|  8.774649|\n",
      "|   254|0439064864|     9|      12|                3|       10|          39|  8.776701|\n",
      "|   254|0380789035|    10|      12|                3|       11|         149|  9.353507|\n",
      "|   254|0142001740|     9|      12|                3|       12|           4| 9.2650385|\n",
      "|   638|0385504209|    10|      14|                4|        5|           1|   9.82988|\n",
      "|   638|0385420161|     9|      14|                4|        6|         388|  8.907452|\n",
      "|   638|0345339711|    10|      14|                4|        7|         205| 10.154758|\n",
      "|   638|0316969443|    10|      14|                4|        8|         317|  9.625122|\n",
      "|   638|0316789089|    10|      14|                4|        9|         423|  9.881942|\n",
      "|   638|0316776963|    10|      14|                4|       10|          61|  9.875712|\n",
      "|   638|0316769487|    10|      14|                4|       11|          27|  9.860478|\n",
      "|   638|0316693200|     9|      14|                4|       12|         221|  8.730483|\n",
      "|   638|0316693006|    10|      14|                4|       13|         343|  9.979849|\n",
      "|   638|0316666343|    10|      14|                4|       14|           0| 10.023762|\n",
      "|  1435|0684848783|     5|      11|                3|        4|         312| 4.9432297|\n",
      "+------+----------+------+--------+-----------------+---------+------------+----------+\n",
      "only showing top 20 rows\n",
      "\n",
      "train rmse:  0.4794246833808176\n"
     ]
    }
   ],
   "source": [
    "results_train = mdl.transform(train_df)\n",
    "\n",
    "train_rmse = evaluator.evaluate(results_train)\n",
    "\n",
    "\n",
    "results_train.show()\n",
    "print('train rmse: ', train_rmse)"
   ]
  },
  {
   "cell_type": "code",
   "execution_count": 187,
   "metadata": {},
   "outputs": [
    {
     "name": "stdout",
     "output_type": "stream",
     "text": [
      "+------+----------+------+--------+-----------------+---------+------------+----------+\n",
      "|UserID|      ISBN|Rating|numBooks|num_books_to_mask|book_rank|integer_isbn|prediction|\n",
      "+------+----------+------+--------+-----------------+---------+------------+----------+\n",
      "|   254|0671021001|     7|      12|                3|        1|          30|  8.238991|\n",
      "|   254|0590353403|     9|      12|                3|        2|          56|  8.498013|\n",
      "|   254|0451526341|     8|      12|                3|        3|         142| 7.9538608|\n",
      "|   638|0679746048|     7|      14|                4|        1|         122|  8.740083|\n",
      "|   638|0670892963|     7|      14|                4|        2|         193| 6.6132474|\n",
      "|   638|0446531332|    10|      14|                4|        3|         262|   9.51638|\n",
      "|   638|0385505833|    10|      14|                4|        4|          62|  9.289095|\n",
      "|  2766|0553279912|     7|      11|                3|        3|          76|  7.647276|\n",
      "|  4017|068484477X|     5|      23|                6|        2|          67| 7.7002563|\n",
      "|  4017|068484267X|    10|      23|                6|        3|          84| 9.7970915|\n",
      "|  4017|067976402X|    10|      23|                6|        4|          18|   8.78645|\n",
      "|  4017|0671510053|    10|      23|                6|        5|         127|  8.889247|\n",
      "|  4017|0671038184|    10|      23|                6|        6|         168|  8.663082|\n",
      "|  6242|068484477X|     8|      24|                7|        4|          67|  5.064516|\n",
      "|  6242|068484267X|     8|      24|                7|        5|          84| 6.7243314|\n",
      "|  6242|067976402X|     8|      24|                7|        6|          18|   8.44641|\n",
      "|  6242|0679751521|     5|      24|                7|        7|         194|  5.413678|\n",
      "|  6251|0786817070|     8|      29|                8|        2|         253|  6.031667|\n",
      "|  6251|068484267X|     8|      29|                8|        3|          84|  8.638193|\n",
      "|  6251|067976402X|     8|      29|                8|        4|          18|  7.932173|\n",
      "+------+----------+------+--------+-----------------+---------+------------+----------+\n",
      "only showing top 20 rows\n",
      "\n"
     ]
    }
   ],
   "source": [
    "test_results = mdl.transform(test_df)\n",
    "test_results.show()"
   ]
  },
  {
   "cell_type": "code",
   "execution_count": 188,
   "metadata": {},
   "outputs": [
    {
     "name": "stdout",
     "output_type": "stream",
     "text": [
      "rmse =  2.2909152916066167\n"
     ]
    }
   ],
   "source": [
    "rmse = evaluator.evaluate(test_results)\n",
    "\n",
    "print('rmse = ', rmse)"
   ]
  },
  {
   "cell_type": "code",
   "execution_count": 189,
   "metadata": {},
   "outputs": [
    {
     "name": "stdout",
     "output_type": "stream",
     "text": [
      "+------+--------------------+\n",
      "|UserID|     recommendations|\n",
      "+------+--------------------+\n",
      "|   254|[{87, 10.024155},...|\n",
      "|   638|[{386, 11.872586}...|\n",
      "|  1435|[{165, 10.49667},...|\n",
      "|  2766|[{10, 9.619271}, ...|\n",
      "|  4017|[{436, 11.856785}...|\n",
      "|  6242|[{53, 9.457883}, ...|\n",
      "|  6251|[{124, 10.511237}...|\n",
      "|  6543|[{281, 10.037977}...|\n",
      "|  6563|[{153, 10.731018}...|\n",
      "|  6575|[{138, 9.772576},...|\n",
      "|  7158|[{4, 10.441949}, ...|\n",
      "|  7283|[{386, 11.53569},...|\n",
      "|  7346|[{436, 9.722032},...|\n",
      "|  7915|[{153, 10.800841}...|\n",
      "|  8066|[{386, 10.025443}...|\n",
      "|  8067|[{27, 10.921689},...|\n",
      "|  8245|[{94, 9.815214}, ...|\n",
      "|  8253|[{10, 11.436174},...|\n",
      "|  8454|[{138, 10.216397}...|\n",
      "| 10314|[{153, 9.882768},...|\n",
      "+------+--------------------+\n",
      "only showing top 20 rows\n",
      "\n"
     ]
    }
   ],
   "source": [
    "mdl.recommendForAllUsers(5).show()"
   ]
  },
  {
   "cell_type": "markdown",
   "metadata": {},
   "source": [
    "## Model saving"
   ]
  },
  {
   "cell_type": "code",
   "execution_count": 191,
   "metadata": {},
   "outputs": [],
   "source": [
    "mdl.save(\"./collaborative-filteing/init_model\")"
   ]
  },
  {
   "cell_type": "code",
   "execution_count": 192,
   "metadata": {},
   "outputs": [],
   "source": [
    "ratings_filtered.toPandas().to_csv('./final_ratings_x2.csv', index=False)"
   ]
  },
  {
   "cell_type": "markdown",
   "metadata": {},
   "source": [
    "#### do some recommendations"
   ]
  },
  {
   "cell_type": "code",
   "execution_count": null,
   "metadata": {},
   "outputs": [],
   "source": [
    "spark.stop()"
   ]
  }
 ],
 "metadata": {
  "kernelspec": {
   "display_name": "Python 3",
   "language": "python",
   "name": "python3"
  },
  "language_info": {
   "codemirror_mode": {
    "name": "ipython",
    "version": 3
   },
   "file_extension": ".py",
   "mimetype": "text/x-python",
   "name": "python",
   "nbconvert_exporter": "python",
   "pygments_lexer": "ipython3",
   "version": "3.12.2"
  }
 },
 "nbformat": 4,
 "nbformat_minor": 2
}
