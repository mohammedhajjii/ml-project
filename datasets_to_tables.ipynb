{
 "cells": [
  {
   "cell_type": "code",
   "execution_count": 1,
   "metadata": {},
   "outputs": [],
   "source": [
    "from pyspark.sql import SparkSession\n",
    "from pyspark.sql.functions import col, count\n",
    "spark = (\n",
    "    SparkSession\n",
    "    .Builder()\n",
    "    .appName('cf-project')\n",
    "    .getOrCreate()\n",
    ")"
   ]
  },
  {
   "cell_type": "code",
   "execution_count": 2,
   "metadata": {},
   "outputs": [],
   "source": [
    "ratings = spark.read.csv(path='./final_ratings.csv', header=True, inferSchema=True)\n",
    "users = spark.read.csv(path='./dataset/Users.csv', header=True, inferSchema=True)\n",
    "books =  spark.read.csv(path='./dataset/Books.csv', header=True, inferSchema=True)"
   ]
  },
  {
   "cell_type": "code",
   "execution_count": 3,
   "metadata": {},
   "outputs": [
    {
     "name": "stdout",
     "output_type": "stream",
     "text": [
      "+------+----------+------+--------+-----------------+---------+------------+\n",
      "|UserID|      ISBN|Rating|numBooks|num_books_to_mask|book_rank|integer_isbn|\n",
      "+------+----------+------+--------+-----------------+---------+------------+\n",
      "|   243|155874262X|     5|      10|                3|        1|         206|\n",
      "|   243|0449006522|     6|      10|                3|        2|         481|\n",
      "|   243|044023722X|     7|      10|                3|        3|          26|\n",
      "|   243|0425163407|     9|      10|                3|        4|         180|\n",
      "|   243|0385720106|     7|      10|                3|        5|          91|\n",
      "|   243|0316899984|     7|      10|                3|        6|         172|\n",
      "|   243|0316776963|     9|      10|                3|        7|          64|\n",
      "|   243|0316601950|     9|      10|                3|        8|          12|\n",
      "|   243|0060977493|     7|      10|                3|        9|         135|\n",
      "|   243|0060915544|    10|      10|                3|       10|          98|\n",
      "|   254|0679781587|     8|      13|                3|        1|           3|\n",
      "|   254|0671021001|     7|      13|                3|        2|          27|\n",
      "|   254|0590353403|     9|      13|                3|        3|          45|\n",
      "|   254|0451526341|     8|      13|                3|        4|         130|\n",
      "|   254|0451524934|     9|      13|                3|        5|         167|\n",
      "|   254|0451167317|     8|      13|                3|        6|         125|\n",
      "|   254|0439139597|     9|      13|                3|        7|          39|\n",
      "|   254|0439136369|     9|      13|                3|        8|         163|\n",
      "|   254|0439136350|     9|      13|                3|        9|          33|\n",
      "|   254|0439064872|     9|      13|                3|       10|          49|\n",
      "+------+----------+------+--------+-----------------+---------+------------+\n",
      "only showing top 20 rows\n",
      "\n"
     ]
    }
   ],
   "source": [
    "ratings.show()"
   ]
  },
  {
   "cell_type": "code",
   "execution_count": 4,
   "metadata": {},
   "outputs": [
    {
     "name": "stdout",
     "output_type": "stream",
     "text": [
      "signific users:  784\n",
      "signific book:  537\n"
     ]
    }
   ],
   "source": [
    "significant_users = (\n",
    "    ratings\n",
    "    .select('UserID')\n",
    "    .distinct()\n",
    "    .orderBy(col('UserID').asc())\n",
    ")\n",
    "\n",
    "\n",
    "significant_books = (\n",
    "    ratings\n",
    "    .select('ISBN', 'integer_isbn')\n",
    "     .distinct()\n",
    "    .orderBy(col('integer_isbn').asc())\n",
    ")\n",
    "\n",
    "print('signific users: ', significant_users.count())\n",
    "print('signific book: ', significant_books.count())\n"
   ]
  },
  {
   "cell_type": "code",
   "execution_count": 5,
   "metadata": {},
   "outputs": [
    {
     "name": "stdout",
     "output_type": "stream",
     "text": [
      "+----------+------------+\n",
      "|      ISBN|integer_isbn|\n",
      "+----------+------------+\n",
      "|0316666343|           0|\n",
      "|0385504209|           1|\n",
      "|0312195516|           2|\n",
      "|0679781587|           3|\n",
      "|0142001740|           4|\n",
      "|0060928336|           5|\n",
      "|0446672211|           6|\n",
      "|059035342X|           7|\n",
      "|0743418174|           8|\n",
      "|0452282152|           9|\n",
      "|043935806X|          10|\n",
      "|044021145X|          11|\n",
      "|0316601950|          12|\n",
      "|0446310786|          13|\n",
      "|067976402X|          14|\n",
      "|0345370775|          15|\n",
      "|0375727345|          16|\n",
      "|0345337662|          17|\n",
      "|0671027360|          18|\n",
      "|0060930535|          19|\n",
      "+----------+------------+\n",
      "only showing top 20 rows\n",
      "\n"
     ]
    }
   ],
   "source": [
    "significant_books.show()"
   ]
  },
  {
   "cell_type": "code",
   "execution_count": 6,
   "metadata": {},
   "outputs": [
    {
     "name": "stdout",
     "output_type": "stream",
     "text": [
      "users:  784\n",
      "+------+--------------------+----+\n",
      "|UserID|            Location| Age|\n",
      "+------+--------------------+----+\n",
      "|   243|arden hills, minn...|NULL|\n",
      "|   254|minneapolis, minn...|24.0|\n",
      "|   638|san diego, califo...|20.0|\n",
      "|  1435|st. louis, missou...|36.0|\n",
      "|  2766|  frisco, texas, usa|42.0|\n",
      "|  4017|new orleans, loui...|48.0|\n",
      "|  6242|calgary, alberta,...|NULL|\n",
      "|  6251|wahiawa, hawaii, usa|32.0|\n",
      "|  6543|strafford, missou...|34.0|\n",
      "|  6563|burien, washingto...|31.0|\n",
      "|  6575|seattle, washingt...|NULL|\n",
      "|  7125|        apo, ae, usa|28.0|\n",
      "|  7158|omaha, nebraska, usa|30.0|\n",
      "|  7283|saint marys, geor...|30.0|\n",
      "|  7346|sunnyvale, califo...|49.0|\n",
      "|  7915|st. paul, minneso...|NULL|\n",
      "|  8066|chicago, illinois...|NULL|\n",
      "|  8067|owings mills, mar...|26.0|\n",
      "|  8245|torrance, califor...|31.0|\n",
      "|  8253|tulsa, oklahoma, usa|26.0|\n",
      "+------+--------------------+----+\n",
      "only showing top 20 rows\n",
      "\n"
     ]
    }
   ],
   "source": [
    "#user joiture:\n",
    "\n",
    "users = (\n",
    "    significant_users\n",
    "    .join(users, on='UserID', how='left')\n",
    "    .orderBy(col('UserID').asc())\n",
    ")\n",
    "\n",
    "print('users: ', users.count())\n",
    "users.show()"
   ]
  },
  {
   "cell_type": "code",
   "execution_count": 7,
   "metadata": {},
   "outputs": [
    {
     "name": "stdout",
     "output_type": "stream",
     "text": [
      "+------+-----------+-------+\n",
      "|UserID|       City|Country|\n",
      "+------+-----------+-------+\n",
      "|   243|  minnesota|    usa|\n",
      "|   254|  minnesota|    usa|\n",
      "|   638| california|    usa|\n",
      "|  1435|   missouri|    usa|\n",
      "|  2766|      texas|    usa|\n",
      "|  4017|  louisiana|    usa|\n",
      "|  6242|    alberta| canada|\n",
      "|  6251|     hawaii|    usa|\n",
      "|  6543|   missouri|    usa|\n",
      "|  6563| washington|    usa|\n",
      "|  6575| washington|    usa|\n",
      "|  7125|         ae|    usa|\n",
      "|  7158|   nebraska|    usa|\n",
      "|  7283|    georgia|    usa|\n",
      "|  7346| california|    usa|\n",
      "|  7915|  minnesota|    usa|\n",
      "|  8066|   illinois|    usa|\n",
      "|  8067|   maryland|    usa|\n",
      "|  8245| california|    usa|\n",
      "|  8253|   oklahoma|    usa|\n",
      "+------+-----------+-------+\n",
      "only showing top 20 rows\n",
      "\n"
     ]
    }
   ],
   "source": [
    "from pyspark.sql.functions import split\n",
    "\n",
    "users = (\n",
    "    users.withColumn('splited_location', split('Location', ','))\n",
    "    .withColumn('City', col('splited_location')[1])\n",
    "    .withColumn('Country', col('splited_location')[2])\n",
    "    .select('UserID','City', 'Country')\n",
    ")\n",
    "users.show()"
   ]
  },
  {
   "cell_type": "code",
   "execution_count": 8,
   "metadata": {},
   "outputs": [],
   "source": [
    "users.toPandas().to_csv('./users.csv', index=False)"
   ]
  },
  {
   "cell_type": "code",
   "execution_count": 9,
   "metadata": {},
   "outputs": [
    {
     "name": "stdout",
     "output_type": "stream",
     "text": [
      "+----------+------------+--------------------+---------------+-----------------+--------------------+--------------------+--------------------+--------------------+\n",
      "|      ISBN|integer_isbn|               Title|         Author|YearOfPublication|           Publisher|           ImageURLS|           ImageURLM|           ImageURLL|\n",
      "+----------+------------+--------------------+---------------+-----------------+--------------------+--------------------+--------------------+--------------------+\n",
      "|0316666343|           0|The Lovely Bones:...|   Alice Sebold|             2002|       Little, Brown|http://images.ama...|http://images.ama...|http://images.ama...|\n",
      "|0385504209|           1|   The Da Vinci Code|      Dan Brown|             2003|           Doubleday|http://images.ama...|http://images.ama...|http://images.ama...|\n",
      "|0312195516|           2|The Red Tent (Bes...|  Anita Diamant|             1998|         Picador USA|http://images.ama...|http://images.ama...|http://images.ama...|\n",
      "|0679781587|           3|                NULL|           NULL|             NULL|                NULL|                NULL|                NULL|                NULL|\n",
      "|0142001740|           4|The Secret Life o...|  Sue Monk Kidd|             2003|       Penguin Books|http://images.ama...|http://images.ama...|http://images.ama...|\n",
      "|0060928336|           5|Divine Secrets of...|  Rebecca Wells|             1997|           Perennial|http://images.ama...|http://images.ama...|http://images.ama...|\n",
      "|0446672211|           6|Where the Heart I...|   Billie Letts|             1998|        Warner Books|http://images.ama...|http://images.ama...|http://images.ama...|\n",
      "|059035342X|           7|Harry Potter and ...|  J. K. Rowling|             1999|Arthur A. Levine ...|http://images.ama...|http://images.ama...|http://images.ama...|\n",
      "|0743418174|           8|         Good in Bed|Jennifer Weiner|             2002|Washington Square...|http://images.ama...|http://images.ama...|http://images.ama...|\n",
      "|0452282152|           9|Girl with a Pearl...|Tracy Chevalier|             2001|         Plume Books|http://images.ama...|http://images.ama...|http://images.ama...|\n",
      "+----------+------------+--------------------+---------------+-----------------+--------------------+--------------------+--------------------+--------------------+\n",
      "only showing top 10 rows\n",
      "\n"
     ]
    }
   ],
   "source": [
    "books = (\n",
    "    significant_books\n",
    "    .join(books, on='ISBN', how='left')\n",
    "    .orderBy(col('integer_isbn').asc())\n",
    ")\n",
    "\n",
    "books.show(10)"
   ]
  },
  {
   "cell_type": "code",
   "execution_count": 11,
   "metadata": {},
   "outputs": [
    {
     "name": "stdout",
     "output_type": "stream",
     "text": [
      "+----------+------------+--------------------+------------------+-----------------+--------------------+--------------------+--------------------+--------------------+\n",
      "|      ISBN|integer_isbn|               Title|            Author|YearOfPublication|           Publisher|           ImageURLS|           ImageURLM|           ImageURLL|\n",
      "+----------+------------+--------------------+------------------+-----------------+--------------------+--------------------+--------------------+--------------------+\n",
      "|0316666343|           0|The Lovely Bones:...|      Alice Sebold|             2002|       Little, Brown|http://images.ama...|http://images.ama...|http://images.ama...|\n",
      "|0385504209|           1|   The Da Vinci Code|         Dan Brown|             2003|           Doubleday|http://images.ama...|http://images.ama...|http://images.ama...|\n",
      "|0312195516|           2|The Red Tent (Bes...|     Anita Diamant|             1998|         Picador USA|http://images.ama...|http://images.ama...|http://images.ama...|\n",
      "|0142001740|           4|The Secret Life o...|     Sue Monk Kidd|             2003|       Penguin Books|http://images.ama...|http://images.ama...|http://images.ama...|\n",
      "|0060928336|           5|Divine Secrets of...|     Rebecca Wells|             1997|           Perennial|http://images.ama...|http://images.ama...|http://images.ama...|\n",
      "|0446672211|           6|Where the Heart I...|      Billie Letts|             1998|        Warner Books|http://images.ama...|http://images.ama...|http://images.ama...|\n",
      "|059035342X|           7|Harry Potter and ...|     J. K. Rowling|             1999|Arthur A. Levine ...|http://images.ama...|http://images.ama...|http://images.ama...|\n",
      "|0743418174|           8|         Good in Bed|   Jennifer Weiner|             2002|Washington Square...|http://images.ama...|http://images.ama...|http://images.ama...|\n",
      "|0452282152|           9|Girl with a Pearl...|   Tracy Chevalier|             2001|         Plume Books|http://images.ama...|http://images.ama...|http://images.ama...|\n",
      "|043935806X|          10|Harry Potter and ...|     J. K. Rowling|             2003|          Scholastic|http://images.ama...|http://images.ama...|http://images.ama...|\n",
      "|044021145X|          11|            The Firm|      John Grisham|             1992|Bantam Dell Publi...|http://images.ama...|http://images.ama...|http://images.ama...|\n",
      "|0316601950|          12|The Pilot's Wife ...|      Anita Shreve|             1999|      Back Bay Books|http://images.ama...|http://images.ama...|http://images.ama...|\n",
      "|0446310786|          13|To Kill a Mocking...|        Harper Lee|             1988|Little Brown &amp...|http://images.ama...|http://images.ama...|http://images.ama...|\n",
      "|067976402X|          14|Snow Falling on C...|    David Guterson|             1995|   Vintage Books USA|http://images.ama...|http://images.ama...|http://images.ama...|\n",
      "|0345370775|          15|       Jurassic Park|  Michael Crichton|             1999|    Ballantine Books|http://images.ama...|http://images.ama...|http://images.ama...|\n",
      "|0375727345|          16|House of Sand and...|   Andre Dubus III|             2000|       Vintage Books|http://images.ama...|http://images.ama...|http://images.ama...|\n",
      "|0345337662|          17|Interview with th...|         Anne Rice|             1993|    Ballantine Books|http://images.ama...|http://images.ama...|http://images.ama...|\n",
      "|0671027360|          18| Angels &amp; Demons|         Dan Brown|             2001|         Pocket Star|http://images.ama...|http://images.ama...|http://images.ama...|\n",
      "|0060930535|          19|The Poisonwood Bi...|Barbara Kingsolver|             1999|           Perennial|http://images.ama...|http://images.ama...|http://images.ama...|\n",
      "|0385484518|          20|Tuesdays with Mor...|       MITCH ALBOM|             1997|           Doubleday|http://images.ama...|http://images.ama...|http://images.ama...|\n",
      "+----------+------------+--------------------+------------------+-----------------+--------------------+--------------------+--------------------+--------------------+\n",
      "only showing top 20 rows\n",
      "\n"
     ]
    }
   ],
   "source": [
    "books = books.na.drop()\n",
    "\n",
    "books.show()"
   ]
  },
  {
   "cell_type": "code",
   "execution_count": 12,
   "metadata": {},
   "outputs": [
    {
     "name": "stdout",
     "output_type": "stream",
     "text": [
      "+----------+------------+--------------------+------------------+-----------------+--------------------+--------------------+--------------------+--------------------+\n",
      "|      ISBN|integer_isbn|               Title|            Author|YearOfPublication|           Publisher|           ImageURLS|           ImageURLM|           ImageURLL|\n",
      "+----------+------------+--------------------+------------------+-----------------+--------------------+--------------------+--------------------+--------------------+\n",
      "|0316666343|           0|the lovely bones:...|      alice sebold|             2002|       little, brown|http://images.ama...|http://images.ama...|http://images.ama...|\n",
      "|0385504209|           1|   the da vinci code|         dan brown|             2003|           doubleday|http://images.ama...|http://images.ama...|http://images.ama...|\n",
      "|0312195516|           2|the red tent (bes...|     anita diamant|             1998|         picador usa|http://images.ama...|http://images.ama...|http://images.ama...|\n",
      "|0142001740|           4|the secret life o...|     sue monk kidd|             2003|       penguin books|http://images.ama...|http://images.ama...|http://images.ama...|\n",
      "|0060928336|           5|divine secrets of...|     rebecca wells|             1997|           perennial|http://images.ama...|http://images.ama...|http://images.ama...|\n",
      "|0446672211|           6|where the heart i...|      billie letts|             1998|        warner books|http://images.ama...|http://images.ama...|http://images.ama...|\n",
      "|059035342X|           7|harry potter and ...|     j. k. rowling|             1999|arthur a. levine ...|http://images.ama...|http://images.ama...|http://images.ama...|\n",
      "|0743418174|           8|         good in bed|   jennifer weiner|             2002|washington square...|http://images.ama...|http://images.ama...|http://images.ama...|\n",
      "|0452282152|           9|girl with a pearl...|   tracy chevalier|             2001|         plume books|http://images.ama...|http://images.ama...|http://images.ama...|\n",
      "|043935806X|          10|harry potter and ...|     j. k. rowling|             2003|          scholastic|http://images.ama...|http://images.ama...|http://images.ama...|\n",
      "|044021145X|          11|            the firm|      john grisham|             1992|bantam dell publi...|http://images.ama...|http://images.ama...|http://images.ama...|\n",
      "|0316601950|          12|the pilot's wife ...|      anita shreve|             1999|      back bay books|http://images.ama...|http://images.ama...|http://images.ama...|\n",
      "|0446310786|          13|to kill a mocking...|        harper lee|             1988|little brown &amp...|http://images.ama...|http://images.ama...|http://images.ama...|\n",
      "|067976402X|          14|snow falling on c...|    david guterson|             1995|   vintage books usa|http://images.ama...|http://images.ama...|http://images.ama...|\n",
      "|0345370775|          15|       jurassic park|  michael crichton|             1999|    ballantine books|http://images.ama...|http://images.ama...|http://images.ama...|\n",
      "|0375727345|          16|house of sand and...|   andre dubus iii|             2000|       vintage books|http://images.ama...|http://images.ama...|http://images.ama...|\n",
      "|0345337662|          17|interview with th...|         anne rice|             1993|    ballantine books|http://images.ama...|http://images.ama...|http://images.ama...|\n",
      "|0671027360|          18| angels &amp; demons|         dan brown|             2001|         pocket star|http://images.ama...|http://images.ama...|http://images.ama...|\n",
      "|0060930535|          19|the poisonwood bi...|barbara kingsolver|             1999|           perennial|http://images.ama...|http://images.ama...|http://images.ama...|\n",
      "|0385484518|          20|tuesdays with mor...|       mitch albom|             1997|           doubleday|http://images.ama...|http://images.ama...|http://images.ama...|\n",
      "+----------+------------+--------------------+------------------+-----------------+--------------------+--------------------+--------------------+--------------------+\n",
      "only showing top 20 rows\n",
      "\n"
     ]
    }
   ],
   "source": [
    "from pyspark.sql.functions import lower\n",
    "\n",
    "books = (\n",
    "    books\n",
    "    .withColumn('Title', lower('Title'))\n",
    "    .withColumn('Author', lower('Author'))\n",
    "    .withColumn('Publisher', lower('Publisher'))\n",
    ")\n",
    "\n",
    "books.show()"
   ]
  },
  {
   "cell_type": "code",
   "execution_count": 13,
   "metadata": {},
   "outputs": [],
   "source": [
    "books.toPandas().to_csv('./books.csv', index=False)"
   ]
  },
  {
   "cell_type": "code",
   "execution_count": 14,
   "metadata": {},
   "outputs": [],
   "source": [
    "(\n",
    "    ratings\n",
    "    .select('UserID', 'integer_isbn', 'Rating')\n",
    "    .toPandas()\n",
    "    .to_csv('./rating_by_user.csv', index=False)\n",
    ")\n"
   ]
  },
  {
   "cell_type": "code",
   "execution_count": 15,
   "metadata": {},
   "outputs": [],
   "source": [
    "(\n",
    "    ratings\n",
    "    .select('integer_isbn', 'UserID', 'Rating')\n",
    "    .toPandas()\n",
    "    .to_csv('./rating_by_book.csv', index=False)\n",
    ")"
   ]
  },
  {
   "cell_type": "code",
   "execution_count": 16,
   "metadata": {},
   "outputs": [
    {
     "name": "stdout",
     "output_type": "stream",
     "text": [
      "books:  531\n",
      "users:  784\n",
      "rating:  14060\n"
     ]
    }
   ],
   "source": [
    "print('books: ', books.count())\n",
    "print('users: ', users.count())\n",
    "print('rating: ', ratings.count())"
   ]
  }
 ],
 "metadata": {
  "kernelspec": {
   "display_name": "Python 3",
   "language": "python",
   "name": "python3"
  },
  "language_info": {
   "codemirror_mode": {
    "name": "ipython",
    "version": 3
   },
   "file_extension": ".py",
   "mimetype": "text/x-python",
   "name": "python",
   "nbconvert_exporter": "python",
   "pygments_lexer": "ipython3",
   "version": "3.12.2"
  }
 },
 "nbformat": 4,
 "nbformat_minor": 2
}
